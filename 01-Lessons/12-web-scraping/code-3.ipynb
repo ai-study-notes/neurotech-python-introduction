{
 "cells": [
  {
   "cell_type": "markdown",
   "id": "4a3024bd-a690-45c1-9295-bd7614532905",
   "metadata": {},
   "source": [
    "## Two Sum\n",
    "Question: Given an array of integers nums and an integer target, return indices of the two numbers such that they add up to target. You may assume that each input would have exactly one solution, and you may not use the same element twice."
   ]
  },
  {
   "cell_type": "code",
   "execution_count": 6,
   "id": "4598d26e-14a3-4f2a-a8aa-00a0701e8291",
   "metadata": {
    "tags": []
   },
   "outputs": [
    {
     "name": "stdout",
     "output_type": "stream",
     "text": [
      "[0, 1]\n"
     ]
    }
   ],
   "source": [
    "def two_sum(nums, target):\n",
    "    num_map = {}\n",
    "    for i, num in enumerate(nums):\n",
    "        complement = target - num\n",
    "        if complement in num_map:\n",
    "            return [num_map[complement], i]\n",
    "        num_map[num] = i\n",
    "\n",
    "print(two_sum([2, 7, 11, 15], 9))  \n"
   ]
  },
  {
   "cell_type": "markdown",
   "id": "26bef727-fb96-47db-96ad-0ec26d23cfab",
   "metadata": {},
   "source": [
    "## Palindrome Check\n",
    "Question: Write a function that checks whether a given string is a palindrome."
   ]
  },
  {
   "cell_type": "code",
   "execution_count": 7,
   "id": "16ac187b-5dda-4122-9ee4-8bb5f2e19814",
   "metadata": {
    "tags": []
   },
   "outputs": [
    {
     "name": "stdout",
     "output_type": "stream",
     "text": [
      "True\n",
      "False\n"
     ]
    }
   ],
   "source": [
    "def is_palindrome(s):\n",
    "    return s == s[::-1]\n",
    "\n",
    "print(is_palindrome(\"radar\"))\n",
    "print(is_palindrome(\"hello\"))  \n"
   ]
  },
  {
   "cell_type": "markdown",
   "id": "1be36b62-1dc2-46d3-9165-122a051f7bfe",
   "metadata": {},
   "source": [
    "## Longest Substring Without Repeating Characters\n",
    "Question: Given a string s, find the length of the longest substring without repeating characters."
   ]
  },
  {
   "cell_type": "code",
   "execution_count": 8,
   "id": "5531d718-dda9-4507-9379-c22a4110a958",
   "metadata": {
    "tags": []
   },
   "outputs": [
    {
     "name": "stdout",
     "output_type": "stream",
     "text": [
      "3\n",
      "1\n"
     ]
    }
   ],
   "source": [
    "def length_of_longest_substring(s):\n",
    "    char_map = {}\n",
    "    left = 0\n",
    "    max_length = 0\n",
    "    for right in range(len(s)):\n",
    "        if s[right] in char_map and char_map[s[right]] >= left:\n",
    "            left = char_map[s[right]] + 1\n",
    "        char_map[s[right]] = right\n",
    "        max_length = max(max_length, right - left + 1)\n",
    "    return max_length\n",
    "\n",
    "print(length_of_longest_substring(\"abcabcbb\")) \n",
    "print(length_of_longest_substring(\"bbbbb\"))  \n"
   ]
  },
  {
   "cell_type": "markdown",
   "id": "b82a9c87-bc5f-4860-9ad0-0558995456e5",
   "metadata": {},
   "source": [
    "## Find Missing Number\n",
    "Question: Given an array containing n distinct numbers taken from 0, 1, 2, ..., n, find the one that is missing from the array."
   ]
  },
  {
   "cell_type": "code",
   "execution_count": 9,
   "id": "642e3fff-a8ec-4585-a664-86550f64d403",
   "metadata": {
    "tags": []
   },
   "outputs": [
    {
     "name": "stdout",
     "output_type": "stream",
     "text": [
      "2\n",
      "8\n"
     ]
    }
   ],
   "source": [
    "def find_missing_number(nums):\n",
    "    n = len(nums)\n",
    "    total = n * (n + 1) // 2\n",
    "    return total - sum(nums)\n",
    "\n",
    "print(find_missing_number([3, 0, 1]))  \n",
    "print(find_missing_number([9,6,4,2,3,5,7,0,1]))  \n"
   ]
  },
  {
   "cell_type": "markdown",
   "id": "754b40ca-0f34-411a-a77e-f62d70ca4dc5",
   "metadata": {},
   "source": [
    "## Valid Parentheses\n",
    "Question: Given a string containing just the characters '(', ')', '{', '}', '[' and ']', determine if the input string is valid. An input string is valid if:\n",
    "\n",
    "Open brackets are closed by the same type of brackets.\n",
    "Open brackets are closed in the correct order."
   ]
  },
  {
   "cell_type": "code",
   "execution_count": 10,
   "id": "024c90c3-6f71-4a05-a5ea-7a64c33c903a",
   "metadata": {
    "tags": []
   },
   "outputs": [
    {
     "name": "stdout",
     "output_type": "stream",
     "text": [
      "True\n",
      "True\n",
      "False\n"
     ]
    }
   ],
   "source": [
    "def is_valid_parentheses(s):\n",
    "    stack = []\n",
    "    mapping = {\")\": \"(\", \"}\": \"{\", \"]\": \"[\"}\n",
    "    for char in s:\n",
    "        if char in mapping:\n",
    "            top_element = stack.pop() if stack else '#'\n",
    "            if mapping[char] != top_element:\n",
    "                return False\n",
    "        else:\n",
    "            stack.append(char)\n",
    "    return not stack\n",
    "\n",
    "print(is_valid_parentheses(\"()\")) \n",
    "print(is_valid_parentheses(\"()[]{}\"))  \n",
    "print(is_valid_parentheses(\"(]\"))  \n"
   ]
  },
  {
   "cell_type": "markdown",
   "id": "4b33ca8c-87eb-409f-925e-b4ea3ff6b34d",
   "metadata": {},
   "source": [
    "## Fibonacci Sequence\n",
    "Question: Write a function to generate the nth Fibonacci number."
   ]
  },
  {
   "cell_type": "code",
   "execution_count": 11,
   "id": "268246c1-d86f-430b-b986-e9ccf83dd38c",
   "metadata": {
    "tags": []
   },
   "outputs": [
    {
     "name": "stdout",
     "output_type": "stream",
     "text": [
      "55\n",
      "610\n"
     ]
    }
   ],
   "source": [
    "def fibonacci(n):\n",
    "    if n <= 0:\n",
    "        return 0\n",
    "    elif n == 1:\n",
    "        return 1\n",
    "    else:\n",
    "        a, b = 0, 1\n",
    "        for _ in range(2, n + 1):\n",
    "            a, b = b, a + b\n",
    "        return b\n",
    "\n",
    "print(fibonacci(10))  \n",
    "print(fibonacci(15))  \n"
   ]
  },
  {
   "cell_type": "markdown",
   "id": "aec620ce-9f17-40cc-96f1-14b4d0aef40c",
   "metadata": {},
   "source": [
    "## Climbing Stairs\n",
    "Question: You are climbing a staircase. It takes n steps to reach the top. Each time you can either climb 1 or 2 steps. In how many distinct ways can you climb to the top?"
   ]
  },
  {
   "cell_type": "code",
   "execution_count": 12,
   "id": "fccedd95-d09e-4e85-b1bd-822187b44efb",
   "metadata": {
    "tags": []
   },
   "outputs": [
    {
     "name": "stdout",
     "output_type": "stream",
     "text": [
      "2\n",
      "3\n",
      "8\n"
     ]
    }
   ],
   "source": [
    "def climb_stairs(n):\n",
    "    if n == 1:\n",
    "        return 1\n",
    "    a, b = 1, 2\n",
    "    for i in range(3, n + 1):\n",
    "        a, b = b, a + b\n",
    "    return b\n",
    "\n",
    "print(climb_stairs(2))  \n",
    "print(climb_stairs(3))  \n",
    "print(climb_stairs(5))  \n"
   ]
  },
  {
   "cell_type": "markdown",
   "id": "007e5949-bd32-43d5-9c86-6d88f326fa4e",
   "metadata": {},
   "source": [
    "## Count Character Occurrences\n",
    "Question: Write a function that takes a string and returns a dictionary with the count of each character in the string"
   ]
  },
  {
   "cell_type": "code",
   "execution_count": 13,
   "id": "19166c28-6118-4a48-90e8-c7505e68abd4",
   "metadata": {
    "tags": []
   },
   "outputs": [
    {
     "name": "stdout",
     "output_type": "stream",
     "text": [
      "{'h': 1, 'e': 1, 'l': 2, 'o': 1}\n"
     ]
    }
   ],
   "source": [
    "def count_characters(s):\n",
    "    char_count = {}\n",
    "    for char in s:\n",
    "        if char in char_count:\n",
    "            char_count[char] += 1\n",
    "        else:\n",
    "            char_count[char] = 1\n",
    "    return char_count\n",
    "\n",
    "print(count_characters(\"hello\"))  # Output: {'h': 1, 'e': 1, 'l': 2, 'o': 1}\n"
   ]
  },
  {
   "cell_type": "code",
   "execution_count": null,
   "id": "ad68007b-022f-4192-b435-1ea3d26446bd",
   "metadata": {},
   "outputs": [],
   "source": []
  }
 ],
 "metadata": {
  "kernelspec": {
   "display_name": "Python 3 (ipykernel)",
   "language": "python",
   "name": "python3"
  },
  "language_info": {
   "codemirror_mode": {
    "name": "ipython",
    "version": 3
   },
   "file_extension": ".py",
   "mimetype": "text/x-python",
   "name": "python",
   "nbconvert_exporter": "python",
   "pygments_lexer": "ipython3",
   "version": "3.11.4"
  }
 },
 "nbformat": 4,
 "nbformat_minor": 5
}
