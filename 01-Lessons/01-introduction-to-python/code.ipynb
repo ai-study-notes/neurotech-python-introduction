{
 "cells": [
  {
   "cell_type": "markdown",
   "id": "6df57b6e-b62f-4e8a-855c-bd15a187a9f7",
   "metadata": {},
   "source": [
    "# List"
   ]
  },
  {
   "cell_type": "code",
   "execution_count": 1,
   "id": "50456e76-340d-4732-a022-fe1794780e90",
   "metadata": {},
   "outputs": [],
   "source": [
    "# Creating an empty list\n",
    "empty_list = []\n",
    "\n",
    "# Creating a list with elements\n",
    "numbers = [1, 2, 3, 4, 5]\n",
    "fruits = ['apple', 'banana', 'orange']\n",
    "mixed_list = [1, 'hello', True, 3.14]\n"
   ]
  },
  {
   "cell_type": "code",
   "execution_count": 2,
   "id": "947e0e8a-7340-4345-96df-f2b43d29117b",
   "metadata": {},
   "outputs": [
    {
     "name": "stdout",
     "output_type": "stream",
     "text": [
      "10\n",
      "30\n",
      "50\n"
     ]
    }
   ],
   "source": [
    "numbers = [10, 20, 30, 40, 50]\n",
    "\n",
    "# Accessing individual elements using indexing\n",
    "print(numbers[0])   # Output: 10\n",
    "print(numbers[2])   # Output: 30\n",
    "print(numbers[4])   # Output: 50\n"
   ]
  },
  {
   "cell_type": "code",
   "execution_count": 3,
   "id": "3af22d76-58f9-426b-86f2-dbc08712a041",
   "metadata": {},
   "outputs": [
    {
     "name": "stdout",
     "output_type": "stream",
     "text": [
      "50\n",
      "30\n"
     ]
    }
   ],
   "source": [
    "numbers = [10, 20, 30, 40, 50]\n",
    "\n",
    "print(numbers[-1])  # Output: 50 (last element)\n",
    "print(numbers[-3])  # Output: 30 (third element from the end)\n"
   ]
  },
  {
   "cell_type": "code",
   "execution_count": 4,
   "id": "266c5d08-645d-4aca-81c8-d3862179c9e5",
   "metadata": {},
   "outputs": [
    {
     "ename": "IndexError",
     "evalue": "list index out of range",
     "output_type": "error",
     "traceback": [
      "\u001b[1;31m---------------------------------------------------------------------------\u001b[0m",
      "\u001b[1;31mIndexError\u001b[0m                                Traceback (most recent call last)",
      "Cell \u001b[1;32mIn[4], line 4\u001b[0m\n\u001b[0;32m      1\u001b[0m numbers \u001b[38;5;241m=\u001b[39m [\u001b[38;5;241m10\u001b[39m, \u001b[38;5;241m20\u001b[39m, \u001b[38;5;241m30\u001b[39m, \u001b[38;5;241m40\u001b[39m, \u001b[38;5;241m50\u001b[39m]\n\u001b[0;32m      3\u001b[0m \u001b[38;5;66;03m# Trying to access an index that is out of range\u001b[39;00m\n\u001b[1;32m----> 4\u001b[0m \u001b[38;5;28mprint\u001b[39m(\u001b[43mnumbers\u001b[49m\u001b[43m[\u001b[49m\u001b[38;5;241;43m5\u001b[39;49m\u001b[43m]\u001b[49m)   \u001b[38;5;66;03m# Raises IndexError: list index out of range\u001b[39;00m\n",
      "\u001b[1;31mIndexError\u001b[0m: list index out of range"
     ]
    }
   ],
   "source": [
    "numbers = [10, 20, 30, 40, 50]\n",
    "\n",
    "# Trying to access an index that is out of range\n",
    "print(numbers[5])   # Raises IndexError: list index out of range\n"
   ]
  },
  {
   "cell_type": "code",
   "execution_count": null,
   "id": "2830e2a9-2929-4e94-8eb1-106dd52748d9",
   "metadata": {},
   "outputs": [],
   "source": []
  },
  {
   "cell_type": "markdown",
   "id": "ea35e0af-34e3-445d-82ef-35208d48063b",
   "metadata": {},
   "source": [
    "### Liit Slicing"
   ]
  },
  {
   "cell_type": "code",
   "execution_count": 5,
   "id": "2c1f2642-5816-4453-9d23-f15f78d4fd56",
   "metadata": {},
   "outputs": [
    {
     "name": "stdout",
     "output_type": "stream",
     "text": [
      "[2, 3, 4]\n",
      "[0, 1, 2, 3, 4, 5]\n",
      "[5, 6, 7, 8, 9]\n",
      "[1, 3, 5, 7]\n",
      "[9, 8, 7, 6, 5, 4, 3, 2, 1, 0]\n"
     ]
    }
   ],
   "source": [
    "numbers = [0, 1, 2, 3, 4, 5, 6, 7, 8, 9]\n",
    "\n",
    "# Slicing from index 2 to index 5 (exclusive)\n",
    "subset1 = numbers[2:5]\n",
    "print(subset1)  # Output: [2, 3, 4]\n",
    "\n",
    "# Slicing from the beginning to index 6 (exclusive)\n",
    "subset2 = numbers[:6]\n",
    "print(subset2)  # Output: [0, 1, 2, 3, 4, 5]\n",
    "\n",
    "# Slicing from index 5 to the end\n",
    "subset3 = numbers[5:]\n",
    "print(subset3)  # Output: [5, 6, 7, 8, 9]\n",
    "\n",
    "# Slicing with a step of 2 (includes every second element)\n",
    "subset4 = numbers[1:9:2]\n",
    "print(subset4)  # Output: [1, 3, 5, 7]\n",
    "\n",
    "# Reverse the list using slicing (step -1)\n",
    "reversed_list = numbers[::-1]\n",
    "print(reversed_list)  # Output: [9, 8, 7, 6, 5, 4, 3, 2, 1, 0]\n"
   ]
  },
  {
   "cell_type": "code",
   "execution_count": 6,
   "id": "b2699b72-3848-4fc5-a10a-ba7347314be0",
   "metadata": {},
   "outputs": [
    {
     "name": "stdout",
     "output_type": "stream",
     "text": [
      "[8, 7]\n"
     ]
    }
   ],
   "source": [
    "numbers = [0, 1, 2, 3, 4, 5, 6, 7, 8, 9]\n",
    "\n",
    "# Slicing from the second-to-last element to the fourth-to-last element (exclusive)\n",
    "subset5 = numbers[-2:-4:-1]\n",
    "print(subset5)  # Output: [8, 7]\n"
   ]
  },
  {
   "cell_type": "markdown",
   "id": "e6dd2396-9bbe-4696-b84d-7a6b84071bd1",
   "metadata": {},
   "source": [
    "### List Function \n"
   ]
  },
  {
   "cell_type": "code",
   "execution_count": 7,
   "id": "fd925228-cfc6-426f-84d1-5657fb6231bc",
   "metadata": {},
   "outputs": [
    {
     "name": "stdout",
     "output_type": "stream",
     "text": [
      "5\n"
     ]
    }
   ],
   "source": [
    "numbers = [1, 2, 3, 4, 5]\n",
    "print(len(numbers))  # Output: 5\n"
   ]
  },
  {
   "cell_type": "code",
   "execution_count": 8,
   "id": "3d0af688-4584-4fcc-8f23-5ee5f8544440",
   "metadata": {},
   "outputs": [
    {
     "name": "stdout",
     "output_type": "stream",
     "text": [
      "25\n"
     ]
    }
   ],
   "source": [
    "numbers = [10, 5, 25, 15]\n",
    "print(max(numbers))  # Output: 25\n"
   ]
  },
  {
   "cell_type": "code",
   "execution_count": 9,
   "id": "67b02ae8-d959-4489-8de7-7f43cd30178f",
   "metadata": {},
   "outputs": [
    {
     "name": "stdout",
     "output_type": "stream",
     "text": [
      "5\n"
     ]
    }
   ],
   "source": [
    "numbers = [10, 5, 25, 15]\n",
    "print(min(numbers))  # Output: 5\n"
   ]
  },
  {
   "cell_type": "code",
   "execution_count": 10,
   "id": "c214c4f8-65a4-431a-9b0c-0d77ace88890",
   "metadata": {},
   "outputs": [
    {
     "name": "stdout",
     "output_type": "stream",
     "text": [
      "15\n"
     ]
    }
   ],
   "source": [
    "numbers = [1, 2, 3, 4, 5]\n",
    "print(sum(numbers))  # Output: 15\n"
   ]
  },
  {
   "cell_type": "code",
   "execution_count": 11,
   "id": "214791cc-f4ab-47ee-9e31-b5bf8ce20bd8",
   "metadata": {},
   "outputs": [
    {
     "name": "stdout",
     "output_type": "stream",
     "text": [
      "[1, 2, 3, 5, 8]\n",
      "[5, 2, 8, 1, 3]\n"
     ]
    }
   ],
   "source": [
    "numbers = [5, 2, 8, 1, 3]\n",
    "sorted_numbers = sorted(numbers)\n",
    "print(sorted_numbers)  # Output: [1, 2, 3, 5, 8]\n",
    "print(numbers)        # Output: [5, 2, 8, 1, 3] (original list remains unchanged)\n"
   ]
  },
  {
   "cell_type": "code",
   "execution_count": 12,
   "id": "46881beb-d535-4f2b-8b46-4867df6a1bca",
   "metadata": {},
   "outputs": [
    {
     "name": "stdout",
     "output_type": "stream",
     "text": [
      "[5, 4, 3, 2, 1]\n",
      "[1, 2, 3, 4, 5]\n"
     ]
    }
   ],
   "source": [
    "numbers = [1, 2, 3, 4, 5]\n",
    "reversed_numbers = list(reversed(numbers))\n",
    "print(reversed_numbers)  # Output: [5, 4, 3, 2, 1]\n",
    "print(numbers)          # Output: [1, 2, 3, 4, 5] (original list remains unchanged)\n"
   ]
  },
  {
   "cell_type": "code",
   "execution_count": 13,
   "id": "d9c68e0e-5797-4dde-be55-3897c792a027",
   "metadata": {},
   "outputs": [
    {
     "name": "stdout",
     "output_type": "stream",
     "text": [
      "Index 0: apple\n",
      "Index 1: banana\n",
      "Index 2: orange\n"
     ]
    }
   ],
   "source": [
    "fruits = ['apple', 'banana', 'orange']\n",
    "for index, fruit in enumerate(fruits):\n",
    "    print(f\"Index {index}: {fruit}\")\n",
    "# Output:\n",
    "# Index 0: apple\n",
    "# Index 1: banana\n",
    "# Index 2: orange\n"
   ]
  },
  {
   "cell_type": "markdown",
   "id": "ca7df492-e71e-42b3-be7a-f17d3b98f067",
   "metadata": {},
   "source": [
    "### Built In Function \n"
   ]
  },
  {
   "cell_type": "code",
   "execution_count": 14,
   "id": "c182d350-3113-4d7d-bca4-2aace0cc0ecd",
   "metadata": {},
   "outputs": [
    {
     "name": "stdout",
     "output_type": "stream",
     "text": [
      "['apple', 'banana', 'orange']\n"
     ]
    }
   ],
   "source": [
    "fruits = ['apple', 'banana']\n",
    "fruits.append('orange')\n",
    "print(fruits)  # Output: ['apple', 'banana', 'orange']\n"
   ]
  },
  {
   "cell_type": "code",
   "execution_count": 15,
   "id": "ba99ac09-966f-4fc0-bef2-269959b25c8b",
   "metadata": {},
   "outputs": [
    {
     "name": "stdout",
     "output_type": "stream",
     "text": [
      "['apple', 'banana', 'orange', 'grape']\n"
     ]
    }
   ],
   "source": [
    "fruits = ['apple', 'banana']\n",
    "more_fruits = ['orange', 'grape']\n",
    "fruits.extend(more_fruits)\n",
    "print(fruits)  # Output: ['apple', 'banana', 'orange', 'grape']\n"
   ]
  },
  {
   "cell_type": "code",
   "execution_count": 16,
   "id": "c863636a-fd98-4af1-8e71-90ee3fcdce1a",
   "metadata": {},
   "outputs": [
    {
     "name": "stdout",
     "output_type": "stream",
     "text": [
      "[1, 2, 3, 4, 5]\n"
     ]
    }
   ],
   "source": [
    "numbers = [1, 2, 3, 5]\n",
    "numbers.insert(3, 4)\n",
    "print(numbers)  # Output: [1, 2, 3, 4, 5]\n"
   ]
  },
  {
   "cell_type": "code",
   "execution_count": 17,
   "id": "0172fd61-6865-480b-ac49-38b565b22bb1",
   "metadata": {},
   "outputs": [
    {
     "name": "stdout",
     "output_type": "stream",
     "text": [
      "['apple', 'orange']\n"
     ]
    }
   ],
   "source": [
    "fruits = ['apple', 'banana', 'orange']\n",
    "fruits.remove('banana')\n",
    "print(fruits)  # Output: ['apple', 'orange']\n"
   ]
  },
  {
   "cell_type": "code",
   "execution_count": 18,
   "id": "44afd0d1-588c-41a1-880c-fc838e10e561",
   "metadata": {},
   "outputs": [
    {
     "name": "stdout",
     "output_type": "stream",
     "text": [
      "banana\n",
      "['apple', 'orange']\n"
     ]
    }
   ],
   "source": [
    "fruits = ['apple', 'banana', 'orange']\n",
    "popped_fruit = fruits.pop(1)\n",
    "print(popped_fruit)  # Output: 'banana'\n",
    "print(fruits)       # Output: ['apple', 'orange']\n"
   ]
  },
  {
   "cell_type": "code",
   "execution_count": 19,
   "id": "79b60161-4efe-4026-a650-e877c90aea01",
   "metadata": {},
   "outputs": [
    {
     "name": "stdout",
     "output_type": "stream",
     "text": [
      "4\n"
     ]
    }
   ],
   "source": [
    "numbers = [1, 2, 2, 3, 2, 4, 2, 5]\n",
    "count_2 = numbers.count(2)\n",
    "print(count_2)  # Output: 4\n"
   ]
  },
  {
   "cell_type": "code",
   "execution_count": 20,
   "id": "6d2916d7-ff3d-413a-9eb0-f3dd764ddda4",
   "metadata": {},
   "outputs": [
    {
     "name": "stdout",
     "output_type": "stream",
     "text": [
      "2\n"
     ]
    }
   ],
   "source": [
    "fruits = ['apple', 'banana', 'orange']\n",
    "index_orange = fruits.index('orange')\n",
    "print(index_orange)  # Output: 2\n"
   ]
  },
  {
   "cell_type": "markdown",
   "id": "646222f7-9341-41d0-b757-4e8b8c6a0951",
   "metadata": {},
   "source": [
    "### List Copy "
   ]
  },
  {
   "cell_type": "markdown",
   "id": "b430227a-e59a-4298-9969-cbb568708c6c",
   "metadata": {},
   "source": [
    "### Shallow Copy"
   ]
  },
  {
   "cell_type": "code",
   "execution_count": 21,
   "id": "e42db1fd-017b-41e9-8087-1178e59a4772",
   "metadata": {},
   "outputs": [],
   "source": [
    "#Using slicing:\n",
    "original_list = [1, 2, [3, 4]]\n",
    "shallow_copy = original_list[:]\n"
   ]
  },
  {
   "cell_type": "code",
   "execution_count": 22,
   "id": "829d46f5-9aeb-4a0a-87a9-7dddc0c5daa3",
   "metadata": {},
   "outputs": [],
   "source": [
    "#Using the copy() method:\n",
    "import copy\n",
    "\n",
    "original_list = [1, 2, [3, 4]]\n",
    "shallow_copy = copy.copy(original_list)\n"
   ]
  },
  {
   "cell_type": "markdown",
   "id": "dbd9b0cb-42a0-4db8-b2ed-0d523451f411",
   "metadata": {},
   "source": [
    "### Deep Copy"
   ]
  },
  {
   "cell_type": "code",
   "execution_count": 23,
   "id": "1d307bab-9b1f-417f-bc78-6d5d42c33676",
   "metadata": {},
   "outputs": [],
   "source": [
    "import copy\n",
    "\n",
    "original_list = [1, 2, [3, 4]]\n",
    "deep_copy = copy.deepcopy(original_list)\n"
   ]
  },
  {
   "cell_type": "code",
   "execution_count": 24,
   "id": "fe048c37-0034-44b7-8dad-362af0608a0b",
   "metadata": {},
   "outputs": [
    {
     "name": "stdout",
     "output_type": "stream",
     "text": [
      "[1, 2, [5, 4]]\n",
      "[1, 2, [5, 4]]\n",
      "[1, 2, [3, 4]]\n"
     ]
    }
   ],
   "source": [
    "import copy\n",
    "\n",
    "original_list = [1, 2, [3, 4]]\n",
    "shallow_copy = original_list[:]\n",
    "deep_copy = copy.deepcopy(original_list)\n",
    "\n",
    "# Modify the nested object in the original list\n",
    "original_list[2][0] = 5\n",
    "\n",
    "print(original_list)   # Output: [1, 2, [5, 4]]\n",
    "print(shallow_copy)    # Output: [1, 2, [5, 4]] (changes are reflected in the shallow copy)\n",
    "print(deep_copy)       # Output: [1, 2, [3, 4]] (deep copy remains unaffected)\n"
   ]
  },
  {
   "cell_type": "markdown",
   "id": "b679a0d1-383c-4240-b41c-76d5958ef1a8",
   "metadata": {},
   "source": [
    "# Tuple"
   ]
  },
  {
   "cell_type": "code",
   "execution_count": 25,
   "id": "795dc698-c187-47e3-81e1-505443f9d6ae",
   "metadata": {},
   "outputs": [],
   "source": [
    "# Creating an empty tuple\n",
    "empty_tuple = ()\n",
    "\n",
    "# Creating a tuple with elements\n",
    "fruits = ('apple', 'banana', 'orange')\n",
    "\n",
    "# Tuple with different data types\n",
    "mixed_tuple = (1, 'hello', True, 3.14)\n"
   ]
  },
  {
   "cell_type": "code",
   "execution_count": 26,
   "id": "6d56e79b-1803-4a0a-a69b-dc8176845873",
   "metadata": {},
   "outputs": [
    {
     "name": "stdout",
     "output_type": "stream",
     "text": [
      "apple\n",
      "banana\n",
      "('banana', 'orange')\n",
      "apple\n",
      "banana\n",
      "orange\n"
     ]
    }
   ],
   "source": [
    "fruits = ('apple', 'banana', 'orange')\n",
    "\n",
    "# Accessing individual elements using indexing\n",
    "print(fruits[0])  # Output: 'apple'\n",
    "print(fruits[1])  # Output: 'banana'\n",
    "\n",
    "# Slicing a tuple\n",
    "print(fruits[1:])  # Output: ('banana', 'orange')\n",
    "\n",
    "# Iterating over a tuple\n",
    "for fruit in fruits:\n",
    "    print(fruit)\n",
    "# Output:\n",
    "# 'apple'\n",
    "# 'banana'\n",
    "# 'orange'\n"
   ]
  },
  {
   "cell_type": "markdown",
   "id": "abe8c968-16cb-4b34-82dd-ef84db1baaca",
   "metadata": {},
   "source": [
    "### Set"
   ]
  },
  {
   "cell_type": "code",
   "execution_count": 27,
   "id": "4a397ee1-3a32-4e3d-8ddd-f41fadb30d09",
   "metadata": {},
   "outputs": [],
   "source": [
    "# Creating an empty set\n",
    "empty_set = set()\n",
    "\n",
    "# Creating a set with elements\n",
    "fruits = {'apple', 'banana', 'orange'}\n",
    "\n",
    "# Using set() function\n",
    "colors = set(['red', 'green', 'blue'])\n"
   ]
  },
  {
   "cell_type": "code",
   "execution_count": 28,
   "id": "542cb8c8-b86f-4e85-a07e-f1dd6a3bbca6",
   "metadata": {},
   "outputs": [
    {
     "name": "stdout",
     "output_type": "stream",
     "text": [
      "orange\n",
      "banana\n",
      "apple\n"
     ]
    }
   ],
   "source": [
    "fruits = {'apple', 'banana', 'orange'}\n",
    "\n",
    "for fruit in fruits:\n",
    "    print(fruit)\n",
    "# Output: 'orange', 'apple', 'banana' (order may vary)\n"
   ]
  },
  {
   "cell_type": "markdown",
   "id": "b4feda8e-711a-4668-a98d-a47edeaa4e2a",
   "metadata": {},
   "source": [
    "### Set Operations\n"
   ]
  },
  {
   "cell_type": "code",
   "execution_count": 32,
   "id": "08ad24dd-f8ed-4130-824e-713291df24e4",
   "metadata": {},
   "outputs": [
    {
     "name": "stdout",
     "output_type": "stream",
     "text": [
      "{1, 2, 3, 4, 5}\n"
     ]
    }
   ],
   "source": [
    "#union\n",
    "set1 = {1, 2, 3}\n",
    "set2 = {3, 4, 5}\n",
    "\n",
    "union_set = set1 | set2\n",
    "print(union_set)  # Output: {1, 2, 3, 4, 5}\n"
   ]
  },
  {
   "cell_type": "code",
   "execution_count": 33,
   "id": "99bfb392-bf6f-4de4-9152-1ccdfd657181",
   "metadata": {},
   "outputs": [
    {
     "name": "stdout",
     "output_type": "stream",
     "text": [
      "{3}\n"
     ]
    }
   ],
   "source": [
    "#intersection\n",
    "set1 = {1, 2, 3}\n",
    "set2 = {3, 4, 5}\n",
    "\n",
    "intersection_set = set1 & set2\n",
    "print(intersection_set)  # Output: {3}\n"
   ]
  },
  {
   "cell_type": "code",
   "execution_count": 34,
   "id": "8d61adad-6798-4b1b-94cf-900ee3843897",
   "metadata": {},
   "outputs": [
    {
     "name": "stdout",
     "output_type": "stream",
     "text": [
      "{1, 2}\n"
     ]
    }
   ],
   "source": [
    "#Difference \n",
    "set1 = {1, 2, 3}\n",
    "set2 = {3, 4, 5}\n",
    "\n",
    "difference_set = set1 - set2\n",
    "print(difference_set)  # Output: {1, 2}\n"
   ]
  },
  {
   "cell_type": "code",
   "execution_count": 35,
   "id": "b013cbf1-5cd8-4fb0-b6d9-c32b134d4345",
   "metadata": {},
   "outputs": [
    {
     "name": "stdout",
     "output_type": "stream",
     "text": [
      "{1, 2, 4, 5}\n"
     ]
    }
   ],
   "source": [
    "#Symmetric Difference \n",
    "set1 = {1, 2, 3}\n",
    "set2 = {3, 4, 5}\n",
    "\n",
    "symmetric_difference_set = set1 ^ set2\n",
    "print(symmetric_difference_set)  # Output: {1, 2, 4, 5}\n"
   ]
  },
  {
   "cell_type": "code",
   "execution_count": 36,
   "id": "7b9b3722-26ee-43d9-984f-2fa53dd21682",
   "metadata": {},
   "outputs": [
    {
     "name": "stdout",
     "output_type": "stream",
     "text": [
      "True\n"
     ]
    }
   ],
   "source": [
    "#Subset \n",
    "set1 = {1, 2}\n",
    "set2 = {1, 2, 3, 4}\n",
    "\n",
    "print(set1 <= set2)  # Output: True\n"
   ]
  },
  {
   "cell_type": "code",
   "execution_count": 37,
   "id": "ddf39552-4283-44c3-8da3-b0aa3d639b45",
   "metadata": {},
   "outputs": [
    {
     "name": "stdout",
     "output_type": "stream",
     "text": [
      "True\n"
     ]
    }
   ],
   "source": [
    "#Proper Subset\n",
    "set1 = {1, 2}\n",
    "set2 = {1, 2, 3, 4}\n",
    "\n",
    "print(set1 < set2)  # Output: True\n"
   ]
  },
  {
   "cell_type": "code",
   "execution_count": 38,
   "id": "fccb9ad2-648c-4eae-8ab1-c8f30d147860",
   "metadata": {},
   "outputs": [
    {
     "name": "stdout",
     "output_type": "stream",
     "text": [
      "True\n"
     ]
    }
   ],
   "source": [
    "#Superset \n",
    "set1 = {1, 2, 3, 4}\n",
    "set2 = {1, 2}\n",
    "\n",
    "print(set1 >= set2)  # Output: True\n"
   ]
  },
  {
   "cell_type": "code",
   "execution_count": 39,
   "id": "1914c147-fbc4-45a4-9991-71e5d7fc988c",
   "metadata": {},
   "outputs": [
    {
     "name": "stdout",
     "output_type": "stream",
     "text": [
      "True\n"
     ]
    }
   ],
   "source": [
    "#Proper Superse\n",
    "set1 = {1, 2, 3, 4}\n",
    "set2 = {1, 2}\n",
    "\n",
    "print(set1 > set2)  # Output: True\n"
   ]
  },
  {
   "cell_type": "markdown",
   "id": "f994d453-1426-4350-885d-4f9548c76669",
   "metadata": {},
   "source": [
    "# Dictionary "
   ]
  },
  {
   "cell_type": "code",
   "execution_count": 40,
   "id": "78703899-cae3-4ba3-b4e1-d6bef66f2503",
   "metadata": {},
   "outputs": [
    {
     "name": "stdout",
     "output_type": "stream",
     "text": [
      "John Doe\n",
      "25\n",
      "True\n"
     ]
    }
   ],
   "source": [
    "dictionary = {\n",
    "    'name': 'John Doe',\n",
    "    'age': 25,\n",
    "    'grade': 'A',\n",
    "    'is_enrolled': True\n",
    "}\n",
    "\n",
    "print(dictionary['name'])         # Output: 'John Doe'\n",
    "print(dictionary['age'])          # Output: 25\n",
    "print(dictionary['is_enrolled'])  # Output: True\n"
   ]
  },
  {
   "cell_type": "code",
   "execution_count": 41,
   "id": "9ae1ef9a-b4e7-4dee-9a5b-04875f0b0fc3",
   "metadata": {},
   "outputs": [
    {
     "name": "stdout",
     "output_type": "stream",
     "text": [
      "{'name': 'John Doe', 'grade': 'B', 'school': 'ABC High School'}\n"
     ]
    }
   ],
   "source": [
    "dictionary = {\n",
    "    'name': 'John Doe',\n",
    "    'age': 25,\n",
    "    'grade': 'A'\n",
    "}\n",
    "\n",
    "# Adding a new key-value pair\n",
    "dictionary['school'] = 'ABC High School'\n",
    "\n",
    "# Modifying a value\n",
    "dictionary['grade'] = 'B'\n",
    "\n",
    "# Removing a key-value pair\n",
    "del dictionary['age']\n",
    "\n",
    "print(dictionary)\n",
    "# Output: {'name': 'John Doe', 'grade': 'B', 'school': 'ABC High School'}\n"
   ]
  },
  {
   "cell_type": "markdown",
   "id": "7a0d0628-adf4-4bb6-999d-40bbca7ecad1",
   "metadata": {},
   "source": [
    "### Dictionary functions"
   ]
  },
  {
   "cell_type": "code",
   "execution_count": 42,
   "id": "dd9796c1-48c6-44b1-ad91-9e33d432ad26",
   "metadata": {},
   "outputs": [
    {
     "name": "stdout",
     "output_type": "stream",
     "text": [
      "3\n"
     ]
    }
   ],
   "source": [
    "student = {\n",
    "    'name': 'John Doe',\n",
    "    'age': 25,\n",
    "    'grade': 'A'\n",
    "}\n",
    "\n",
    "print(len(student))  # Output: 3\n"
   ]
  },
  {
   "cell_type": "code",
   "execution_count": 43,
   "id": "f09ed9c6-5acb-401e-a320-d863b52cf271",
   "metadata": {},
   "outputs": [
    {
     "name": "stdout",
     "output_type": "stream",
     "text": [
      "{'name': 'John Doe', 'age': 25, 'grade': 'A'}\n"
     ]
    }
   ],
   "source": [
    "# Creating a dictionary from a list of tuples\n",
    "data = [('name', 'John Doe'), ('age', 25), ('grade', 'A')]\n",
    "student = dict(data)\n",
    "\n",
    "print(student)  # Output: {'name': 'John Doe', 'age': 25, 'grade': 'A'}\n"
   ]
  },
  {
   "cell_type": "code",
   "execution_count": 44,
   "id": "a0d997e9-3654-40d9-b1b1-f509be31d2e9",
   "metadata": {},
   "outputs": [
    {
     "name": "stdout",
     "output_type": "stream",
     "text": [
      "['age', 'grade', 'name']\n"
     ]
    }
   ],
   "source": [
    "student = {\n",
    "    'name': 'John Doe',\n",
    "    'age': 25,\n",
    "    'grade': 'A'\n",
    "}\n",
    "\n",
    "sorted_keys = sorted(student)\n",
    "print(sorted_keys)  # Output: ['age', 'grade', 'name']\n"
   ]
  },
  {
   "cell_type": "code",
   "execution_count": 45,
   "id": "7aec3ebf-e578-4db4-b49d-019eb28b21f6",
   "metadata": {},
   "outputs": [
    {
     "name": "stdout",
     "output_type": "stream",
     "text": [
      "dict_keys(['name', 'age', 'grade'])\n"
     ]
    }
   ],
   "source": [
    "student = {\n",
    "    'name': 'John Doe',\n",
    "    'age': 25,\n",
    "    'grade': 'A'\n",
    "}\n",
    "\n",
    "keys_view = student.keys()\n",
    "print(keys_view)  # Output: dict_keys(['name', 'age', 'grade'])\n"
   ]
  },
  {
   "cell_type": "code",
   "execution_count": 46,
   "id": "7beae186-b6e2-4b1c-ba9a-9f70503fd58d",
   "metadata": {},
   "outputs": [
    {
     "name": "stdout",
     "output_type": "stream",
     "text": [
      "dict_values(['John Doe', 25, 'A'])\n"
     ]
    }
   ],
   "source": [
    "student = {\n",
    "    'name': 'John Doe',\n",
    "    'age': 25,\n",
    "    'grade': 'A'\n",
    "}\n",
    "\n",
    "values_view = student.values()\n",
    "print(values_view)  # Output: dict_values(['John Doe', 25, 'A'])\n"
   ]
  },
  {
   "cell_type": "code",
   "execution_count": 47,
   "id": "d7c43205-97d7-482d-b7fe-9f69866c1ef4",
   "metadata": {},
   "outputs": [
    {
     "name": "stdout",
     "output_type": "stream",
     "text": [
      "dict_items([('name', 'John Doe'), ('age', 25), ('grade', 'A')])\n"
     ]
    }
   ],
   "source": [
    "student = {\n",
    "    'name': 'John Doe',\n",
    "    'age': 25,\n",
    "    'grade': 'A'\n",
    "}\n",
    "\n",
    "items_view = student.items()\n",
    "print(items_view)  # Output: dict_items([('name', 'John Doe'), ('age', 25), ('grade', 'A')])\n"
   ]
  },
  {
   "cell_type": "markdown",
   "id": "54fc2fc4-b38c-42f5-83cd-ab2704311a47",
   "metadata": {},
   "source": [
    "### Dictionary Functions"
   ]
  },
  {
   "cell_type": "code",
   "execution_count": 48,
   "id": "f2c9915f-4d90-4697-8622-206d998fa706",
   "metadata": {},
   "outputs": [
    {
     "name": "stdout",
     "output_type": "stream",
     "text": [
      "3\n"
     ]
    }
   ],
   "source": [
    "#len\n",
    "student = {\n",
    "    'name': 'John Doe',\n",
    "    'age': 25,\n",
    "    'grade': 'A'\n",
    "}\n",
    "\n",
    "print(len(student))  # Output: 3\n"
   ]
  },
  {
   "cell_type": "code",
   "execution_count": 49,
   "id": "b63bfb3f-4a2a-402a-b60b-07bb4395eaa5",
   "metadata": {},
   "outputs": [
    {
     "name": "stdout",
     "output_type": "stream",
     "text": [
      "{'name': 'John Doe', 'age': 25, 'grade': 'A'}\n"
     ]
    }
   ],
   "source": [
    "#dict \n",
    "# Creating a dictionary from a list of tuples\n",
    "data = [('name', 'John Doe'), ('age', 25), ('grade', 'A')]\n",
    "student = dict(data)\n",
    "\n",
    "print(student)  # Output: {'name': 'John Doe', 'age': 25, 'grade': 'A'}\n"
   ]
  },
  {
   "cell_type": "code",
   "execution_count": 50,
   "id": "2656815c-de89-4995-b460-f47ec4a729b0",
   "metadata": {},
   "outputs": [
    {
     "name": "stdout",
     "output_type": "stream",
     "text": [
      "['age', 'grade', 'name']\n"
     ]
    }
   ],
   "source": [
    "#sorted\n",
    "student = {\n",
    "    'name': 'John Doe',\n",
    "    'age': 25,\n",
    "    'grade': 'A'\n",
    "}\n",
    "\n",
    "sorted_keys = sorted(student)\n",
    "print(sorted_keys)  # Output: ['age', 'grade', 'name']\n"
   ]
  },
  {
   "cell_type": "code",
   "execution_count": 51,
   "id": "e19e9ac7-24dc-4336-a365-966369729678",
   "metadata": {},
   "outputs": [
    {
     "name": "stdout",
     "output_type": "stream",
     "text": [
      "dict_keys(['name', 'age', 'grade'])\n"
     ]
    }
   ],
   "source": [
    "#key \n",
    "student = {\n",
    "    'name': 'John Doe',\n",
    "    'age': 25,\n",
    "    'grade': 'A'\n",
    "}\n",
    "\n",
    "keys_view = student.keys()\n",
    "print(keys_view)  # Output: dict_keys(['name', 'age', 'grade'])\n"
   ]
  },
  {
   "cell_type": "code",
   "execution_count": 52,
   "id": "d8f08225-a5f0-4b39-adf3-691d6bcc85e2",
   "metadata": {},
   "outputs": [
    {
     "name": "stdout",
     "output_type": "stream",
     "text": [
      "dict_values(['John Doe', 25, 'A'])\n"
     ]
    }
   ],
   "source": [
    "#values\n",
    "student = {\n",
    "    'name': 'John Doe',\n",
    "    'age': 25,\n",
    "    'grade': 'A'\n",
    "}\n",
    "\n",
    "values_view = student.values()\n",
    "print(values_view)  # Output: dict_values(['John Doe', 25, 'A'])\n"
   ]
  },
  {
   "cell_type": "code",
   "execution_count": 53,
   "id": "7d4581f2-b9a3-425f-af89-bfee6c5d9379",
   "metadata": {},
   "outputs": [
    {
     "name": "stdout",
     "output_type": "stream",
     "text": [
      "dict_items([('name', 'John Doe'), ('age', 25), ('grade', 'A')])\n"
     ]
    }
   ],
   "source": [
    "#items\n",
    "student = {\n",
    "    'name': 'John Doe',\n",
    "    'age': 25,\n",
    "    'grade': 'A'\n",
    "}\n",
    "\n",
    "items_view = student.items()\n",
    "print(items_view)  # Output: dict_items([('name', 'John Doe'), ('age', 25), ('grade', 'A')])\n"
   ]
  },
  {
   "cell_type": "code",
   "execution_count": 54,
   "id": "d688bc09-ff48-4920-9f60-42f627a67b12",
   "metadata": {},
   "outputs": [
    {
     "name": "stdout",
     "output_type": "stream",
     "text": [
      "John Doe\n",
      "None\n",
      "N/A\n"
     ]
    }
   ],
   "source": [
    "#get \n",
    "student = {\n",
    "    'name': 'John Doe',\n",
    "    'age': 25,\n",
    "    'grade': 'A'\n",
    "}\n",
    "\n",
    "print(student.get('name'))       # Output: 'John Doe'\n",
    "print(student.get('address'))    # Output: None\n",
    "print(student.get('address', 'N/A'))  # Output: 'N/A' (default value when key is not found)\n"
   ]
  },
  {
   "cell_type": "code",
   "execution_count": 55,
   "id": "3613c2d1-f663-4f0d-9769-203adf2cf16b",
   "metadata": {},
   "outputs": [
    {
     "name": "stdout",
     "output_type": "stream",
     "text": [
      "John Doe\n",
      "{'age': 25, 'grade': 'A'}\n"
     ]
    }
   ],
   "source": [
    "#pop \n",
    "student = {\n",
    "    'name': 'John Doe',\n",
    "    'age': 25,\n",
    "    'grade': 'A'\n",
    "}\n",
    "\n",
    "name = student.pop('name')\n",
    "print(name)       # Output: 'John Doe'\n",
    "print(student)    # Output: {'age': 25, 'grade': 'A'}\n"
   ]
  },
  {
   "cell_type": "code",
   "execution_count": 56,
   "id": "fdd98a6b-46d4-4301-839b-216cead7a825",
   "metadata": {},
   "outputs": [
    {
     "name": "stdout",
     "output_type": "stream",
     "text": [
      "{}\n"
     ]
    }
   ],
   "source": [
    "#clear\n",
    "student = {\n",
    "    'name': 'John Doe',\n",
    "    'age': 25,\n",
    "    'grade': 'A'\n",
    "}\n",
    "\n",
    "student.clear()\n",
    "print(student)    # Output: {}\n"
   ]
  },
  {
   "cell_type": "code",
   "execution_count": 57,
   "id": "57804f74-abf6-49b8-8803-eaf62f0810da",
   "metadata": {},
   "outputs": [
    {
     "name": "stdout",
     "output_type": "stream",
     "text": [
      "{'name': 'John Doe', 'age': 25, 'grade': 'A', 'address': '123 Main St', 'city': 'New York'}\n"
     ]
    }
   ],
   "source": [
    "#update \n",
    "student = {\n",
    "    'name': 'John Doe',\n",
    "    'age': 25\n",
    "}\n",
    "\n",
    "# Update with a dictionary\n",
    "student.update({'grade': 'A'})\n",
    "\n",
    "# Update with an iterable of key-value pairs\n",
    "student.update([('address', '123 Main St'), ('city', 'New York')])\n",
    "\n",
    "print(student)\n",
    "# Output: {'name': 'John Doe', 'age': 25, 'grade': 'A', 'address': '123 Main St', 'city': 'New York'}\n"
   ]
  },
  {
   "cell_type": "code",
   "execution_count": 58,
   "id": "b69d7841-5aaf-4da0-8d4e-869f50c9f000",
   "metadata": {},
   "outputs": [
    {
     "name": "stdout",
     "output_type": "stream",
     "text": [
      "{'name': 'John Doe', 'age': 25}\n"
     ]
    }
   ],
   "source": [
    "#copy \n",
    "student = {\n",
    "    'name': 'John Doe',\n",
    "    'age': 25\n",
    "}\n",
    "\n",
    "student_copy = student.copy()\n",
    "print(student_copy)    # Output: {'name': 'John Doe', 'age': 25}\n"
   ]
  },
  {
   "cell_type": "code",
   "execution_count": null,
   "id": "9c8b43f3-49d0-4bb2-aad0-f900d3ce14c7",
   "metadata": {},
   "outputs": [],
   "source": []
  }
 ],
 "metadata": {
  "kernelspec": {
   "display_name": "Python 3 (ipykernel)",
   "language": "python",
   "name": "python3"
  },
  "language_info": {
   "codemirror_mode": {
    "name": "ipython",
    "version": 3
   },
   "file_extension": ".py",
   "mimetype": "text/x-python",
   "name": "python",
   "nbconvert_exporter": "python",
   "pygments_lexer": "ipython3",
   "version": "3.9.16"
  }
 },
 "nbformat": 4,
 "nbformat_minor": 5
}
