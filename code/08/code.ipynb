{
 "cells": [
  {
   "cell_type": "markdown",
   "id": "505d014f-1d30-4aa4-b670-3c39184d8967",
   "metadata": {},
   "source": [
    "## Q1: Write a Python program to check if a number is positive, negative, or zero.\n",
    "\n"
   ]
  },
  {
   "cell_type": "code",
   "execution_count": 1,
   "id": "3c022c7e-3a0e-499d-8276-7018b3f68dab",
   "metadata": {
    "tags": []
   },
   "outputs": [
    {
     "name": "stdout",
     "output_type": "stream",
     "text": [
      "Positive\n",
      "Negative\n",
      "Zero\n"
     ]
    }
   ],
   "source": [
    "def check_number(n):\n",
    "    if n > 0:\n",
    "        return \"Positive\"\n",
    "    elif n < 0:\n",
    "        return \"Negative\"\n",
    "    else:\n",
    "        return \"Zero\"\n",
    "\n",
    "# Example usage\n",
    "print(check_number(10))  # Positive\n",
    "print(check_number(-5))  # Negative\n",
    "print(check_number(0))   # Zero\n"
   ]
  },
  {
   "cell_type": "markdown",
   "id": "e7ef6dbc-20ab-4cca-87b6-5f8ac3d4457a",
   "metadata": {},
   "source": [
    "## Q2: Write a Python program to print the first 10 natural numbers.\n",
    "\n"
   ]
  },
  {
   "cell_type": "code",
   "execution_count": 2,
   "id": "3bd8f8f5-9526-492a-8ecb-489e69417b8d",
   "metadata": {
    "tags": []
   },
   "outputs": [
    {
     "name": "stdout",
     "output_type": "stream",
     "text": [
      "1\n",
      "2\n",
      "3\n",
      "4\n",
      "5\n",
      "6\n",
      "7\n",
      "8\n",
      "9\n",
      "10\n"
     ]
    }
   ],
   "source": [
    "def print_natural_numbers(n):\n",
    "    for i in range(1, n + 1):\n",
    "        print(i)\n",
    "\n",
    "# Example usage\n",
    "print_natural_numbers(10)\n"
   ]
  },
  {
   "cell_type": "markdown",
   "id": "ec51d413-e30c-4a65-9426-793d20b34f2f",
   "metadata": {},
   "source": [
    "## Q3: Write a Python program to calculate the sum of all numbers from 1 to a given number.\n",
    "\n"
   ]
  },
  {
   "cell_type": "code",
   "execution_count": 3,
   "id": "55e4fd3d-67b1-4db6-900e-c85c4e760d8f",
   "metadata": {
    "tags": []
   },
   "outputs": [
    {
     "name": "stdout",
     "output_type": "stream",
     "text": [
      "55\n"
     ]
    }
   ],
   "source": [
    "def sum_of_numbers(n):\n",
    "    total = 0\n",
    "    i = 1\n",
    "    while i <= n:\n",
    "        total += i\n",
    "        i += 1\n",
    "    return total\n",
    "\n",
    "# Example usage\n",
    "print(sum_of_numbers(10))  # 55\n"
   ]
  },
  {
   "cell_type": "markdown",
   "id": "843975cc-a3d7-42b2-8c1d-de0e0b1329ed",
   "metadata": {},
   "source": [
    "## Q4: Write a Python program to print a multiplication table for a given number.\n",
    "\n"
   ]
  },
  {
   "cell_type": "code",
   "execution_count": 4,
   "id": "93951fa8-c1b9-4f5b-8cc0-17a53221b1c1",
   "metadata": {
    "tags": []
   },
   "outputs": [
    {
     "name": "stdout",
     "output_type": "stream",
     "text": [
      "5 x 1 = 5\n",
      "5 x 2 = 10\n",
      "5 x 3 = 15\n",
      "5 x 4 = 20\n",
      "5 x 5 = 25\n",
      "5 x 6 = 30\n",
      "5 x 7 = 35\n",
      "5 x 8 = 40\n",
      "5 x 9 = 45\n",
      "5 x 10 = 50\n"
     ]
    }
   ],
   "source": [
    "def multiplication_table(n):\n",
    "    for i in range(1, 11):\n",
    "        print(f\"{n} x {i} = {n * i}\")\n",
    "\n",
    "# Example usage\n",
    "multiplication_table(5)\n"
   ]
  },
  {
   "cell_type": "markdown",
   "id": "b1c07d67-a136-47a9-a2e2-09ed2346c1b7",
   "metadata": {},
   "source": [
    "## Q5: Write a Python program to find the first 5 multiples of a given number, but stop if a multiple exceeds 30.\n",
    "\n"
   ]
  },
  {
   "cell_type": "code",
   "execution_count": 5,
   "id": "36b6e1c6-a747-4d96-b385-491f5c13cced",
   "metadata": {
    "tags": []
   },
   "outputs": [
    {
     "name": "stdout",
     "output_type": "stream",
     "text": [
      "4\n",
      "8\n",
      "12\n",
      "16\n",
      "20\n"
     ]
    }
   ],
   "source": [
    "def find_multiples(n):\n",
    "    count = 0\n",
    "    i = 1\n",
    "    while count < 5:\n",
    "        multiple = n * i\n",
    "        if multiple > 30:\n",
    "            break\n",
    "        print(multiple)\n",
    "        count += 1\n",
    "        i += 1\n",
    "\n",
    "# Example usage\n",
    "find_multiples(4)\n"
   ]
  },
  {
   "cell_type": "markdown",
   "id": "18a1a880-3792-4252-8ecd-6e274e002d08",
   "metadata": {},
   "source": [
    "## Q6: Write a Python program to print all even numbers from 1 to 20, but skip the number 10.\n",
    "\n"
   ]
  },
  {
   "cell_type": "code",
   "execution_count": 6,
   "id": "18817eb1-66be-4932-9e99-8cd227db6f08",
   "metadata": {
    "tags": []
   },
   "outputs": [
    {
     "name": "stdout",
     "output_type": "stream",
     "text": [
      "2\n",
      "4\n",
      "6\n",
      "8\n",
      "12\n",
      "14\n",
      "16\n",
      "18\n",
      "20\n"
     ]
    }
   ],
   "source": [
    "def print_even_numbers():\n",
    "    for i in range(1, 21):\n",
    "        if i == 10:\n",
    "            continue\n",
    "        if i % 2 == 0:\n",
    "            print(i)\n",
    "\n",
    "# Example usage\n",
    "print_even_numbers()\n"
   ]
  },
  {
   "cell_type": "markdown",
   "id": "048012d4-19da-4c67-88c4-f9d34c32f3da",
   "metadata": {},
   "source": [
    "## Q7: Write a Python program with an empty function that does nothing (use pass statement).\n",
    "\n"
   ]
  },
  {
   "cell_type": "code",
   "execution_count": 7,
   "id": "2ef4230b-9c2f-4bab-b5dc-c03be6e30a94",
   "metadata": {
    "tags": []
   },
   "outputs": [],
   "source": [
    "def do_nothing():\n",
    "    pass\n",
    "\n",
    "# Example usage\n",
    "do_nothing()\n"
   ]
  },
  {
   "cell_type": "markdown",
   "id": "88495706-ffc3-4245-9007-8ad28eba2fb1",
   "metadata": {},
   "source": [
    "## Q8: Write a function to calculate the area of a rectangle.\n",
    "\n"
   ]
  },
  {
   "cell_type": "code",
   "execution_count": 8,
   "id": "1d396f95-d347-4a9f-9e1e-529dc89cf558",
   "metadata": {
    "tags": []
   },
   "outputs": [
    {
     "name": "stdout",
     "output_type": "stream",
     "text": [
      "15\n"
     ]
    }
   ],
   "source": [
    "def rectangle_area(length, width):\n",
    "    return length * width\n",
    "\n",
    "# Example usage\n",
    "print(rectangle_area(5, 3))  # 15\n"
   ]
  },
  {
   "cell_type": "markdown",
   "id": "c1e08aaf-5a16-46bc-ae62-e42599049b39",
   "metadata": {},
   "source": [
    "## Q9: Write a function to print a greeting message. The default greeting should be \"Hello, World!\".\n",
    "\n"
   ]
  },
  {
   "cell_type": "code",
   "execution_count": 9,
   "id": "4db303a9-b606-46b1-9f46-3577934aa327",
   "metadata": {
    "tags": []
   },
   "outputs": [
    {
     "name": "stdout",
     "output_type": "stream",
     "text": [
      "Hello, World!\n",
      "Hi there!\n"
     ]
    }
   ],
   "source": [
    "def greet(message=\"Hello, World!\"):\n",
    "    print(message)\n",
    "\n",
    "# Example usage\n",
    "greet()  # Hello, World!\n",
    "greet(\"Hi there!\")  # Hi there!\n"
   ]
  },
  {
   "cell_type": "markdown",
   "id": "8252cdb5-23dc-40c6-abfe-61234ddab09f",
   "metadata": {},
   "source": [
    "## Q10: Write a function to calculate the sum of an arbitrary number of arguments.\n",
    "\n"
   ]
  },
  {
   "cell_type": "code",
   "execution_count": 10,
   "id": "9093813c-d8ed-4794-ac73-84cdce0c881d",
   "metadata": {
    "tags": []
   },
   "outputs": [
    {
     "name": "stdout",
     "output_type": "stream",
     "text": [
      "6\n",
      "9\n"
     ]
    }
   ],
   "source": [
    "def sum_all(*args):\n",
    "    return sum(args)\n",
    "\n",
    "# Example usage\n",
    "print(sum_all(1, 2, 3))  # 6\n",
    "print(sum_all(4, 5))     # 9\n"
   ]
  },
  {
   "cell_type": "markdown",
   "id": "5aa58010-08b6-4e97-9aa2-456770750674",
   "metadata": {},
   "source": [
    "## Q11: Write a lambda function to square a number.\n",
    "\n"
   ]
  },
  {
   "cell_type": "code",
   "execution_count": 11,
   "id": "5d1630c2-606c-4a02-972d-7ee60ddaac0e",
   "metadata": {
    "tags": []
   },
   "outputs": [
    {
     "name": "stdout",
     "output_type": "stream",
     "text": [
      "16\n"
     ]
    }
   ],
   "source": [
    "square = lambda x: x ** 2\n",
    "\n",
    "# Example usage\n",
    "print(square(4))  # 16\n"
   ]
  },
  {
   "cell_type": "markdown",
   "id": "f1404095-f1b1-4af2-a5a8-59850c8f325a",
   "metadata": {},
   "source": [
    "## 12: Write a function that accepts another function as an argument and applies it to a list of numbers.\n",
    "\n"
   ]
  },
  {
   "cell_type": "code",
   "execution_count": 12,
   "id": "77be75df-0797-4839-a679-7466776acd25",
   "metadata": {
    "tags": []
   },
   "outputs": [
    {
     "name": "stdout",
     "output_type": "stream",
     "text": [
      "[2, 4, 6]\n"
     ]
    }
   ],
   "source": [
    "def apply_function(func, numbers):\n",
    "    return [func(n) for n in numbers]\n",
    "\n",
    "# Example usage\n",
    "print(apply_function(lambda x: x * 2, [1, 2, 3]))  # [2, 4, 6]\n"
   ]
  },
  {
   "cell_type": "markdown",
   "id": "a52a2040-2e4d-4a41-8762-0abdb6bfd5c0",
   "metadata": {},
   "source": [
    "## Q13: Write a recursive function to calculate the factorial of a number.\n",
    "\n"
   ]
  },
  {
   "cell_type": "code",
   "execution_count": 13,
   "id": "97592330-098a-4de0-82d0-2815131bae03",
   "metadata": {
    "tags": []
   },
   "outputs": [
    {
     "name": "stdout",
     "output_type": "stream",
     "text": [
      "120\n"
     ]
    }
   ],
   "source": [
    "def factorial(n):\n",
    "    if n == 0:\n",
    "        return 1\n",
    "    else:\n",
    "        return n * factorial(n - 1)\n",
    "\n",
    "# Example usage\n",
    "print(factorial(5))  # 120\n"
   ]
  },
  {
   "cell_type": "markdown",
   "id": "2b4bcab0-05a9-4eb9-8006-91677bfc8ce0",
   "metadata": {},
   "source": [
    "## Q14: Write a function that returns another function that adds a given number to its argument.\n",
    "\n"
   ]
  },
  {
   "cell_type": "code",
   "execution_count": 14,
   "id": "a07fedf5-5525-4079-840e-18caa048b4ee",
   "metadata": {
    "tags": []
   },
   "outputs": [
    {
     "name": "stdout",
     "output_type": "stream",
     "text": [
      "15\n"
     ]
    }
   ],
   "source": [
    "def make_adder(n):\n",
    "    return lambda x: x + n\n",
    "\n",
    "# Example usage\n",
    "add_five = make_adder(5)\n",
    "print(add_five(10))  # 15\n"
   ]
  },
  {
   "cell_type": "markdown",
   "id": "07d1db20-fedc-4334-bee7-04c915e39f26",
   "metadata": {},
   "source": [
    "## Q15: Write a program to double all the values in a list using the map function.\n",
    "\n"
   ]
  },
  {
   "cell_type": "code",
   "execution_count": 15,
   "id": "b6ee7fc2-aeb2-4731-a3f1-7933e0f856e9",
   "metadata": {
    "tags": []
   },
   "outputs": [
    {
     "name": "stdout",
     "output_type": "stream",
     "text": [
      "[2, 4, 6]\n"
     ]
    }
   ],
   "source": [
    "def double_values(lst):\n",
    "    return list(map(lambda x: x * 2, lst))\n",
    "\n",
    "# Example usage\n",
    "print(double_values([1, 2, 3]))  # [2, 4, 6]\n"
   ]
  },
  {
   "cell_type": "markdown",
   "id": "cfe45be3-d916-433d-a923-b00f0ba83ac9",
   "metadata": {},
   "source": [
    "## Q16: Write a program to filter out all the even numbers from a list using the filter function.\n",
    "\n"
   ]
  },
  {
   "cell_type": "code",
   "execution_count": 16,
   "id": "e83c57a1-f0ab-4136-adee-c542a3100af5",
   "metadata": {
    "tags": []
   },
   "outputs": [
    {
     "name": "stdout",
     "output_type": "stream",
     "text": [
      "[2, 4]\n"
     ]
    }
   ],
   "source": [
    "def filter_even(lst):\n",
    "    return list(filter(lambda x: x % 2 == 0, lst))\n",
    "\n",
    "# Example usage\n",
    "print(filter_even([1, 2, 3, 4]))  # [2, 4]\n"
   ]
  },
  {
   "cell_type": "markdown",
   "id": "3ccfdad1-8cc3-41a9-a67a-e7327f12989e",
   "metadata": {},
   "source": [
    "## Q17: Write a program to find the product of all numbers in a list using the reduce function.\n",
    "\n"
   ]
  },
  {
   "cell_type": "code",
   "execution_count": 17,
   "id": "48c0f228-044a-40a9-b9af-e7970c64d204",
   "metadata": {
    "tags": []
   },
   "outputs": [
    {
     "name": "stdout",
     "output_type": "stream",
     "text": [
      "24\n"
     ]
    }
   ],
   "source": [
    "from functools import reduce\n",
    "\n",
    "def product(lst):\n",
    "    return reduce(lambda x, y: x * y, lst)\n",
    "\n",
    "# Example usage\n",
    "print(product([1, 2, 3, 4]))  # 24\n"
   ]
  },
  {
   "cell_type": "markdown",
   "id": "7c88b617-5ed9-4e50-b6dd-59c5006db73f",
   "metadata": {},
   "source": [
    "## Q18: Write a function that accepts keyword arguments and prints them.\n",
    "\n"
   ]
  },
  {
   "cell_type": "code",
   "execution_count": 18,
   "id": "5a70aa5c-2fa6-4e71-aef3-d4e7cd572fef",
   "metadata": {
    "tags": []
   },
   "outputs": [
    {
     "name": "stdout",
     "output_type": "stream",
     "text": [
      "name: John\n",
      "age: 30\n",
      "city: New York\n"
     ]
    }
   ],
   "source": [
    "def print_kwargs(**kwargs):\n",
    "    for key, value in kwargs.items():\n",
    "        print(f\"{key}: {value}\")\n",
    "\n",
    "# Example usage\n",
    "print_kwargs(name=\"John\", age=30, city=\"New York\")\n"
   ]
  },
  {
   "cell_type": "markdown",
   "id": "b0e96755-e173-4eb0-be8d-cba19eaaf61c",
   "metadata": {},
   "source": [
    "## Q19: Write a function to calculate the area of a circle and include a docstring explaining the function.\n",
    "\n"
   ]
  },
  {
   "cell_type": "code",
   "execution_count": 19,
   "id": "cacabee4-388b-480b-a973-b2fb20d6cbe9",
   "metadata": {
    "tags": []
   },
   "outputs": [
    {
     "name": "stdout",
     "output_type": "stream",
     "text": [
      "78.53981633974483\n"
     ]
    }
   ],
   "source": [
    "import math\n",
    "\n",
    "def circle_area(radius):\n",
    "    \"\"\"\n",
    "    Calculate the area of a circle given its radius.\n",
    "\n",
    "    Args:\n",
    "        radius (float): The radius of the circle.\n",
    "\n",
    "    Returns:\n",
    "        float: The area of the circle.\n",
    "    \"\"\"\n",
    "    return math.pi * (radius ** 2)\n",
    "\n",
    "# Example usage\n",
    "print(circle_area(5))  # 78.53981633974483\n"
   ]
  },
  {
   "cell_type": "markdown",
   "id": "643ac460-60ed-4dc7-a7ac-fed1ce7a6075",
   "metadata": {},
   "source": [
    "## Q20: Write a function that modifies a global variable.\n",
    "\n"
   ]
  },
  {
   "cell_type": "code",
   "execution_count": 20,
   "id": "eb84c688-ac52-42ba-b4dd-c5c922ea9ea1",
   "metadata": {
    "tags": []
   },
   "outputs": [
    {
     "name": "stdout",
     "output_type": "stream",
     "text": [
      "1\n"
     ]
    }
   ],
   "source": [
    "counter = 0\n",
    "\n",
    "def increment_counter():\n",
    "    global counter\n",
    "    counter += 1\n",
    "\n",
    "# Example usage\n",
    "increment_counter()\n",
    "print(counter)  # 1\n"
   ]
  },
  {
   "cell_type": "markdown",
   "id": "7354f085-eb69-4369-bce6-c6a924ac0dc5",
   "metadata": {},
   "source": [
    "## Q21: Write a function that contains another function and calls it.\n",
    "\n"
   ]
  },
  {
   "cell_type": "code",
   "execution_count": 21,
   "id": "dee4814f-bff8-4aad-af21-96a854e18069",
   "metadata": {
    "tags": []
   },
   "outputs": [
    {
     "name": "stdout",
     "output_type": "stream",
     "text": [
      "Hello from the inner function!\n"
     ]
    }
   ],
   "source": [
    "def outer_function():\n",
    "    def inner_function():\n",
    "        return \"Hello from the inner function!\"\n",
    "    return inner_function()\n",
    "\n",
    "# Example usage\n",
    "print(outer_function())  # Hello from the inner function!\n"
   ]
  },
  {
   "cell_type": "markdown",
   "id": "6eef9878-1932-47f1-97e5-159f775b17c2",
   "metadata": {},
   "source": [
    "## Q22: Write a program to create an anonymous function that squares a number and use it to square a list of numbers.\n",
    "\n"
   ]
  },
  {
   "cell_type": "code",
   "execution_count": 22,
   "id": "fe66c866-1cb7-480f-b73f-6968179faab8",
   "metadata": {
    "tags": []
   },
   "outputs": [
    {
     "name": "stdout",
     "output_type": "stream",
     "text": [
      "[1, 4, 9, 16]\n"
     ]
    }
   ],
   "source": [
    "square = lambda x: x ** 2\n",
    "numbers = [1, 2, 3, 4]\n",
    "\n",
    "squared_numbers = list(map(square, numbers))\n",
    "print(squared_numbers)  # [1, 4, 9, 16]\n"
   ]
  },
  {
   "cell_type": "markdown",
   "id": "3ad9a70e-b1f6-4acb-a0a7-bae8972b4105",
   "metadata": {},
   "source": [
    "## Q23: Write a function with type annotations.\n",
    "\n"
   ]
  },
  {
   "cell_type": "code",
   "execution_count": 23,
   "id": "10c1c174-fddb-422d-9a9d-fe6463ed2fe5",
   "metadata": {
    "tags": []
   },
   "outputs": [
    {
     "name": "stdout",
     "output_type": "stream",
     "text": [
      "8\n"
     ]
    }
   ],
   "source": [
    "def add(a: int, b: int) -> int:\n",
    "    return a + b\n",
    "\n",
    "# Example usage\n",
    "print(add(3, 5))  # 8\n"
   ]
  },
  {
   "cell_type": "markdown",
   "id": "300fe0ab-97c7-450e-8c41-ac12699abb91",
   "metadata": {},
   "source": [
    "## Q24: Write a function that returns the sum and product of two numbers.\n",
    "\n"
   ]
  },
  {
   "cell_type": "code",
   "execution_count": 24,
   "id": "4f33f7ec-3901-458c-b40d-971f6acdd866",
   "metadata": {
    "tags": []
   },
   "outputs": [
    {
     "name": "stdout",
     "output_type": "stream",
     "text": [
      "Sum: 8, Product: 15\n"
     ]
    }
   ],
   "source": [
    "def sum_and_product(a, b):\n",
    "    return a + b, a * b\n",
    "\n",
    "# Example usage\n",
    "s, p = sum_and_product(3, 5)\n",
    "print(f\"Sum: {s}, Product: {p}\")  # Sum: 8,\n"
   ]
  },
  {
   "cell_type": "markdown",
   "id": "7995a056-317a-4cf9-bb7f-f7424553b801",
   "metadata": {},
   "source": [
    "## Q26: Write a decorator that logs the arguments and return value of a function.\n",
    "\n"
   ]
  },
  {
   "cell_type": "code",
   "execution_count": 25,
   "id": "c195407a-890f-4b58-b09e-fdf0fced5e00",
   "metadata": {
    "tags": []
   },
   "outputs": [
    {
     "name": "stdout",
     "output_type": "stream",
     "text": [
      "Arguments: (3, 5), {}\n",
      "Return value: 8\n"
     ]
    },
    {
     "data": {
      "text/plain": [
       "8"
      ]
     },
     "execution_count": 25,
     "metadata": {},
     "output_type": "execute_result"
    }
   ],
   "source": [
    "def log_decorator(func):\n",
    "    def wrapper(*args, **kwargs):\n",
    "        print(f\"Arguments: {args}, {kwargs}\")\n",
    "        result = func(*args, **kwargs)\n",
    "        print(f\"Return value: {result}\")\n",
    "        return result\n",
    "    return wrapper\n",
    "\n",
    "@log_decorator\n",
    "def add(a, b):\n",
    "    return a + b\n",
    "\n",
    "# Example usage\n",
    "add(3, 5)\n"
   ]
  },
  {
   "cell_type": "markdown",
   "id": "2f66e9b5-cd04-43f0-8dda-75df6f7e68a2",
   "metadata": {},
   "source": [
    "## Q27: Write a generator function that yields the first n Fibonacci numbers.\n",
    "\n"
   ]
  },
  {
   "cell_type": "code",
   "execution_count": 26,
   "id": "b6f1dd83-35d3-4d12-b766-e227b53f776f",
   "metadata": {
    "tags": []
   },
   "outputs": [
    {
     "name": "stdout",
     "output_type": "stream",
     "text": [
      "0\n",
      "1\n",
      "1\n",
      "2\n",
      "3\n",
      "5\n",
      "8\n",
      "13\n",
      "21\n",
      "34\n"
     ]
    }
   ],
   "source": [
    "def fibonacci(n):\n",
    "    a, b = 0, 1\n",
    "    for _ in range(n):\n",
    "        yield a\n",
    "        a, b = b, a + b\n",
    "\n",
    "# Example usage\n",
    "for num in fibonacci(10):\n",
    "    print(num)\n"
   ]
  },
  {
   "cell_type": "markdown",
   "id": "e4e0d902-534a-48ab-8b73-9437e6b10b25",
   "metadata": {},
   "source": [
    "## Q28: Write a function that takes another function and a list of numbers, and applies the function to each number.\n",
    "\n"
   ]
  },
  {
   "cell_type": "code",
   "execution_count": 27,
   "id": "ba46cddd-7d8a-4f38-8580-a0a93d05a59c",
   "metadata": {
    "tags": []
   },
   "outputs": [
    {
     "name": "stdout",
     "output_type": "stream",
     "text": [
      "[1, 4, 9]\n"
     ]
    }
   ],
   "source": [
    "def apply_function(func, numbers):\n",
    "    return [func(n) for n in numbers]\n",
    "\n",
    "# Example usage\n",
    "print(apply_function(lambda x: x ** 2, [1, 2, 3]))  # [1, 4, 9]\n"
   ]
  },
  {
   "cell_type": "markdown",
   "id": "963012ec-a823-4583-9e10-9b9197d28079",
   "metadata": {},
   "source": [
    "## Q29: Write a function to find the transpose of a matrix.\n",
    "\n"
   ]
  },
  {
   "cell_type": "code",
   "execution_count": 28,
   "id": "d0ce2f07-ec6e-498b-b719-8a49bb0be173",
   "metadata": {
    "tags": []
   },
   "outputs": [
    {
     "name": "stdout",
     "output_type": "stream",
     "text": [
      "[[1, 4, 7], [2, 5, 8], [3, 6, 9]]\n"
     ]
    }
   ],
   "source": [
    "def transpose_matrix(matrix):\n",
    "    return [[matrix[j][i] for j in range(len(matrix))] for i in range(len(matrix[0]))]\n",
    "\n",
    "# Example usage\n",
    "matrix = [\n",
    "    [1, 2, 3],\n",
    "    [4, 5, 6],\n",
    "    [7, 8, 9]\n",
    "]\n",
    "print(transpose_matrix(matrix))\n"
   ]
  },
  {
   "cell_type": "markdown",
   "id": "37a46242-0556-4cbe-91fa-884358848c79",
   "metadata": {},
   "source": [
    "## Q30: Write a function that returns a lambda function which multiplies its argument by a given number.\n",
    "\n"
   ]
  },
  {
   "cell_type": "code",
   "execution_count": 29,
   "id": "d5971c1a-1843-462a-92a4-dcefbd1a5cd6",
   "metadata": {
    "tags": []
   },
   "outputs": [
    {
     "name": "stdout",
     "output_type": "stream",
     "text": [
      "10\n"
     ]
    }
   ],
   "source": [
    "def multiplier(n):\n",
    "    return lambda x: x * n\n",
    "\n",
    "# Example usage\n",
    "double = multiplier(2)\n",
    "print(double(5))  # 10\n"
   ]
  },
  {
   "cell_type": "code",
   "execution_count": null,
   "id": "6a1cbffb-9ae2-4832-92fb-78f8a9fc789e",
   "metadata": {},
   "outputs": [],
   "source": []
  }
 ],
 "metadata": {
  "kernelspec": {
   "display_name": "Python 3 (ipykernel)",
   "language": "python",
   "name": "python3"
  },
  "language_info": {
   "codemirror_mode": {
    "name": "ipython",
    "version": 3
   },
   "file_extension": ".py",
   "mimetype": "text/x-python",
   "name": "python",
   "nbconvert_exporter": "python",
   "pygments_lexer": "ipython3",
   "version": "3.11.4"
  }
 },
 "nbformat": 4,
 "nbformat_minor": 5
}
