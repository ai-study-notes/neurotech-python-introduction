{
 "cells": [
  {
   "cell_type": "markdown",
   "id": "076e5031-f228-439d-95a3-1f1155539566",
   "metadata": {},
   "source": [
    "## Question 1: Create a Class to Represent a Bank Account\n",
    "Create a BankAccount class with the following functionalities:\n",
    "\n",
    "    A method to deposit an amount.\n",
    "    A method to withdraw an amount.\n",
    "    A method to check the balance."
   ]
  },
  {
   "cell_type": "code",
   "execution_count": 1,
   "id": "55270acb-ad86-4a79-b661-9faf70d5567e",
   "metadata": {
    "tags": []
   },
   "outputs": [
    {
     "name": "stdout",
     "output_type": "stream",
     "text": [
      "Deposited 500. New balance is 1500.\n",
      "Withdrew 200. New balance is 1300.\n",
      "Current balance: 1300\n"
     ]
    }
   ],
   "source": [
    "class BankAccount:\n",
    "    def __init__(self, account_holder, balance=0):\n",
    "        self.account_holder = account_holder\n",
    "        self.balance = balance\n",
    "\n",
    "    def deposit(self, amount):\n",
    "        self.balance += amount\n",
    "        print(f\"Deposited {amount}. New balance is {self.balance}.\")\n",
    "\n",
    "    def withdraw(self, amount):\n",
    "        if amount > self.balance:\n",
    "            print(\"Insufficient funds.\")\n",
    "        else:\n",
    "            self.balance -= amount\n",
    "            print(f\"Withdrew {amount}. New balance is {self.balance}.\")\n",
    "\n",
    "    def check_balance(self):\n",
    "        print(f\"Current balance: {self.balance}\")\n",
    "\n",
    "# Usage\n",
    "account = BankAccount(\"John Doe\", 1000)\n",
    "account.deposit(500)\n",
    "account.withdraw(200)\n",
    "account.check_balance()\n"
   ]
  },
  {
   "cell_type": "markdown",
   "id": "e4cc3b26-06a9-4c8d-914b-630921e86f1b",
   "metadata": {},
   "source": [
    "## Question 2: Implement an Inheritance Example\n",
    "Create a base class Vehicle and a derived class Car. The Vehicle class should have attributes like make, model, and year. The Car class should inherit from Vehicle and have an additional attribute number_of_doors."
   ]
  },
  {
   "cell_type": "code",
   "execution_count": 2,
   "id": "821bc928-2e90-4ff3-93f0-932d330aa9e1",
   "metadata": {
    "tags": []
   },
   "outputs": [
    {
     "name": "stdout",
     "output_type": "stream",
     "text": [
      "2020 Toyota Camry\n",
      "Number of doors: 4\n"
     ]
    }
   ],
   "source": [
    "class Vehicle:\n",
    "    def __init__(self, make, model, year):\n",
    "        self.make = make\n",
    "        self.model = model\n",
    "        self.year = year\n",
    "\n",
    "    def display_info(self):\n",
    "        print(f\"{self.year} {self.make} {self.model}\")\n",
    "\n",
    "class Car(Vehicle):\n",
    "    def __init__(self, make, model, year, number_of_doors):\n",
    "        super().__init__(make, model, year)\n",
    "        self.number_of_doors = number_of_doors\n",
    "\n",
    "    def display_info(self):\n",
    "        super().display_info()\n",
    "        print(f\"Number of doors: {self.number_of_doors}\")\n",
    "\n",
    "# Usage\n",
    "car = Car(\"Toyota\", \"Camry\", 2020, 4)\n",
    "car.display_info()\n"
   ]
  },
  {
   "cell_type": "markdown",
   "id": "b864d931-2c7d-4458-8dbf-1ad5e0462117",
   "metadata": {},
   "source": [
    "## Question 3: Implement Polymorphism with a Shape Class\n",
    "Create a base class Shape with a method area(). Create two derived classes Circle and Rectangle that implement the area() method."
   ]
  },
  {
   "cell_type": "code",
   "execution_count": 3,
   "id": "c2c5c294-19cd-4e2c-910b-8d3e2d8bf7df",
   "metadata": {
    "tags": []
   },
   "outputs": [
    {
     "name": "stdout",
     "output_type": "stream",
     "text": [
      "Area: 78.53981633974483\n",
      "Area: 24\n"
     ]
    }
   ],
   "source": [
    "import math\n",
    "\n",
    "class Shape:\n",
    "    def area(self):\n",
    "        pass\n",
    "\n",
    "class Circle(Shape):\n",
    "    def __init__(self, radius):\n",
    "        self.radius = radius\n",
    "\n",
    "    def area(self):\n",
    "        return math.pi * self.radius ** 2\n",
    "\n",
    "class Rectangle(Shape):\n",
    "    def __init__(self, width, height):\n",
    "        self.width = width\n",
    "        self.height = height\n",
    "\n",
    "    def area(self):\n",
    "        return self.width * self.height\n",
    "\n",
    "# Usage\n",
    "shapes = [Circle(5), Rectangle(4, 6)]\n",
    "for shape in shapes:\n",
    "    print(f\"Area: {shape.area()}\")\n"
   ]
  },
  {
   "cell_type": "markdown",
   "id": "6119a92a-b1e0-4205-85de-7a4696c8cd5b",
   "metadata": {},
   "source": [
    "## Question 4: Create a Library Management System\n",
    "Create a Library class to manage books. The class should allow you to:\n",
    "\n",
    "    Add a new book.\n",
    "    Remove a book.\n",
    "    Display all books."
   ]
  },
  {
   "cell_type": "code",
   "execution_count": 4,
   "id": "636ca5dd-d6fc-4304-8753-7026604fc106",
   "metadata": {
    "tags": []
   },
   "outputs": [
    {
     "name": "stdout",
     "output_type": "stream",
     "text": [
      "Added book: Title: The Great Gatsby, Author: F. Scott Fitzgerald, ISBN: 1234567890\n",
      "Added book: Title: 1984, Author: George Orwell, ISBN: 0987654321\n",
      "Title: The Great Gatsby, Author: F. Scott Fitzgerald, ISBN: 1234567890\n",
      "Title: 1984, Author: George Orwell, ISBN: 0987654321\n",
      "Removed book: Title: The Great Gatsby, Author: F. Scott Fitzgerald, ISBN: 1234567890\n",
      "Title: 1984, Author: George Orwell, ISBN: 0987654321\n"
     ]
    }
   ],
   "source": [
    "class Book:\n",
    "    def __init__(self, title, author, isbn):\n",
    "        self.title = title\n",
    "        self.author = author\n",
    "        self.isbn = isbn\n",
    "\n",
    "    def __str__(self):\n",
    "        return f\"Title: {self.title}, Author: {self.author}, ISBN: {self.isbn}\"\n",
    "\n",
    "class Library:\n",
    "    def __init__(self):\n",
    "        self.books = []\n",
    "\n",
    "    def add_book(self, book):\n",
    "        self.books.append(book)\n",
    "        print(f\"Added book: {book}\")\n",
    "\n",
    "    def remove_book(self, isbn):\n",
    "        for book in self.books:\n",
    "            if book.isbn == isbn:\n",
    "                self.books.remove(book)\n",
    "                print(f\"Removed book: {book}\")\n",
    "                return\n",
    "        print(\"Book not found.\")\n",
    "\n",
    "    def display_books(self):\n",
    "        if not self.books:\n",
    "            print(\"No books in the library.\")\n",
    "        else:\n",
    "            for book in self.books:\n",
    "                print(book)\n",
    "\n",
    "# Usage\n",
    "library = Library()\n",
    "book1 = Book(\"The Great Gatsby\", \"F. Scott Fitzgerald\", \"1234567890\")\n",
    "book2 = Book(\"1984\", \"George Orwell\", \"0987654321\")\n",
    "\n",
    "library.add_book(book1)\n",
    "library.add_book(book2)\n",
    "library.display_books()\n",
    "library.remove_book(\"1234567890\")\n",
    "library.display_books()\n"
   ]
  },
  {
   "cell_type": "markdown",
   "id": "b93463c4-2d7a-4da0-a4a6-c49375e119e7",
   "metadata": {},
   "source": [
    "## Question 5: Implement a Simple ATM System\n",
    "Create an ATM class with the following functionalities:\n",
    "\n",
    "    Check balance.\n",
    "    Deposit money.\n",
    "    Withdraw money.\n",
    "    Exit the system."
   ]
  },
  {
   "cell_type": "code",
   "execution_count": 5,
   "id": "e6acfa51-ae41-4a39-9946-c4ba16cebeb1",
   "metadata": {
    "tags": []
   },
   "outputs": [
    {
     "name": "stdout",
     "output_type": "stream",
     "text": [
      "Your balance is 500\n",
      "Deposited 200. New balance is 700.\n",
      "Withdrew 100. New balance is 600.\n",
      "Thank you for using the ATM. Goodbye!\n"
     ]
    }
   ],
   "source": [
    "class ATM:\n",
    "    def __init__(self, balance=0):\n",
    "        self.balance = balance\n",
    "\n",
    "    def check_balance(self):\n",
    "        print(f\"Your balance is {self.balance}\")\n",
    "\n",
    "    def deposit(self, amount):\n",
    "        self.balance += amount\n",
    "        print(f\"Deposited {amount}. New balance is {self.balance}.\")\n",
    "\n",
    "    def withdraw(self, amount):\n",
    "        if amount > self.balance:\n",
    "            print(\"Insufficient funds.\")\n",
    "        else:\n",
    "            self.balance -= amount\n",
    "            print(f\"Withdrew {amount}. New balance is {self.balance}.\")\n",
    "\n",
    "    def exit(self):\n",
    "        print(\"Thank you for using the ATM. Goodbye!\")\n",
    "\n",
    "# Usage\n",
    "atm = ATM(500)\n",
    "atm.check_balance()\n",
    "atm.deposit(200)\n",
    "atm.withdraw(100)\n",
    "atm.exit()\n"
   ]
  },
  {
   "cell_type": "markdown",
   "id": "a5b756e3-9ff8-4a93-a828-53ae41d39271",
   "metadata": {},
   "source": [
    "## Question 6: Implement a Student Management System\n",
    "Create a Student class and a StudentManagementSystem class. The Student class should have attributes like name, roll_number, and grades. The StudentManagementSystem should manage students by:\n",
    "\n",
    "    Adding a new student.\n",
    "    Removing a student by roll number.\n",
    "    Displaying all students.\n",
    "    Calculating the average grade of a student."
   ]
  },
  {
   "cell_type": "code",
   "execution_count": 6,
   "id": "e4b09794-ac9c-4dee-aa63-f27cdae96966",
   "metadata": {
    "tags": []
   },
   "outputs": [
    {
     "name": "stdout",
     "output_type": "stream",
     "text": [
      "Added student: Name: Alice, Roll Number: 1, Grades: [85, 90, 78]\n",
      "Added student: Name: Bob, Roll Number: 2, Grades: [70, 75, 80]\n",
      "Name: Alice, Roll Number: 1, Grades: [85, 90, 78]\n",
      "Name: Bob, Roll Number: 2, Grades: [70, 75, 80]\n",
      "Removed student: Name: Alice, Roll Number: 1, Grades: [85, 90, 78]\n",
      "Name: Bob, Roll Number: 2, Grades: [70, 75, 80]\n"
     ]
    }
   ],
   "source": [
    "class Student:\n",
    "    def __init__(self, name, roll_number, grades=[]):\n",
    "        self.name = name\n",
    "        self.roll_number = roll_number\n",
    "        self.grades = grades\n",
    "\n",
    "    def __str__(self):\n",
    "        return f\"Name: {self.name}, Roll Number: {self.roll_number}, Grades: {self.grades}\"\n",
    "\n",
    "    def average_grade(self):\n",
    "        return sum(self.grades) / len(self.grades) if self.grades else 0\n",
    "\n",
    "class StudentManagementSystem:\n",
    "    def __init__(self):\n",
    "        self.students = []\n",
    "\n",
    "    def add_student(self, student):\n",
    "        self.students.append(student)\n",
    "        print(f\"Added student: {student}\")\n",
    "\n",
    "    def remove_student(self, roll_number):\n",
    "        for student in self.students:\n",
    "            if student.roll_number == roll_number:\n",
    "                self.students.remove(student)\n",
    "                print(f\"Removed student: {student}\")\n",
    "                return\n",
    "        print(\"Student not found.\")\n",
    "\n",
    "    def display_students(self):\n",
    "        if not self.students:\n",
    "            print(\"No students in the system.\")\n",
    "        else:\n",
    "            for student in self.students:\n",
    "                print(student)\n",
    "\n",
    "# Usage\n",
    "sms = StudentManagementSystem()\n",
    "student1 = Student(\"Alice\", 1, [85, 90, 78])\n",
    "student2 = Student(\"Bob\", 2, [70, 75, 80])\n",
    "\n",
    "sms.add_student(student1)\n",
    "sms.add_student(student2)\n",
    "sms.display_students()\n",
    "sms.remove_student(1)\n",
    "sms.display_students()\n"
   ]
  },
  {
   "cell_type": "markdown",
   "id": "2acf247b-7bcb-46b3-afd3-457376194b3c",
   "metadata": {},
   "source": [
    "## Question 7: Create an Online Store Inventory System\n",
    "Create an Item class and an Inventory class. The Item class should have attributes like name, price, and quantity. The Inventory class should manage the items by:\n",
    "\n",
    "    Adding a new item.\n",
    "    Removing an item by name.\n",
    "    Displaying all items.\n",
    "    Updating the quantity of an item."
   ]
  },
  {
   "cell_type": "code",
   "execution_count": 7,
   "id": "1c0aaf72-339f-4afe-ab96-2c23a7380f37",
   "metadata": {
    "tags": []
   },
   "outputs": [
    {
     "name": "stdout",
     "output_type": "stream",
     "text": [
      "Added item: Name: Laptop, Price: 1000, Quantity: 10\n",
      "Added item: Name: Phone, Price: 500, Quantity: 20\n",
      "Name: Laptop, Price: 1000, Quantity: 10\n",
      "Name: Phone, Price: 500, Quantity: 20\n",
      "Updated quantity for Laptop. New quantity is 15.\n",
      "Name: Laptop, Price: 1000, Quantity: 15\n",
      "Name: Phone, Price: 500, Quantity: 20\n",
      "Removed item: Name: Phone, Price: 500, Quantity: 20\n",
      "Name: Laptop, Price: 1000, Quantity: 15\n"
     ]
    }
   ],
   "source": [
    "class Item:\n",
    "    def __init__(self, name, price, quantity):\n",
    "        self.name = name\n",
    "        self.price = price\n",
    "        self.quantity = quantity\n",
    "\n",
    "    def __str__(self):\n",
    "        return f\"Name: {self.name}, Price: {self.price}, Quantity: {self.quantity}\"\n",
    "\n",
    "class Inventory:\n",
    "    def __init__(self):\n",
    "        self.items = []\n",
    "\n",
    "    def add_item(self, item):\n",
    "        self.items.append(item)\n",
    "        print(f\"Added item: {item}\")\n",
    "\n",
    "    def remove_item(self, name):\n",
    "        for item in self.items:\n",
    "            if item.name == name:\n",
    "                self.items.remove(item)\n",
    "                print(f\"Removed item: {item}\")\n",
    "                return\n",
    "        print(\"Item not found.\")\n",
    "\n",
    "    def display_items(self):\n",
    "        if not self.items:\n",
    "            print(\"No items in the inventory.\")\n",
    "        else:\n",
    "            for item in self.items:\n",
    "                print(item)\n",
    "\n",
    "    def update_quantity(self, name, quantity):\n",
    "        for item in self.items:\n",
    "            if item.name == name:\n",
    "                item.quantity = quantity\n",
    "                print(f\"Updated quantity for {name}. New quantity is {item.quantity}.\")\n",
    "                return\n",
    "        print(\"Item not found.\")\n",
    "\n",
    "# Usage\n",
    "inventory = Inventory()\n",
    "item1 = Item(\"Laptop\", 1000, 10)\n",
    "item2 = Item(\"Phone\", 500, 20)\n",
    "\n",
    "inventory.add_item(item1)\n",
    "inventory.add_item(item2)\n",
    "inventory.display_items()\n",
    "inventory.update_quantity(\"Laptop\", 15)\n",
    "inventory.display_items()\n",
    "inventory.remove_item(\"Phone\")\n",
    "inventory.display_items()\n"
   ]
  },
  {
   "cell_type": "markdown",
   "id": "b0365490-8a88-4c9c-a9ae-a67d24a5495d",
   "metadata": {},
   "source": [
    "## Question 8 : Shape Area Calculation with Polymorphism\n",
    "Create a base class Shape with a method area(). Create derived classes Circle, Rectangle, and Triangle that implement the area() method."
   ]
  },
  {
   "cell_type": "code",
   "execution_count": 8,
   "id": "ac47c34f-8449-4734-84dc-38d30aad6ea6",
   "metadata": {
    "tags": []
   },
   "outputs": [
    {
     "name": "stdout",
     "output_type": "stream",
     "text": [
      "Area: 78.53981633974483\n",
      "Area: 24\n",
      "Area: 10.5\n"
     ]
    }
   ],
   "source": [
    "import math\n",
    "\n",
    "class Shape:\n",
    "    def area(self):\n",
    "        pass\n",
    "\n",
    "class Circle(Shape):\n",
    "    def __init__(self, radius):\n",
    "        self.radius = radius\n",
    "\n",
    "    def area(self):\n",
    "        return math.pi * self.radius ** 2\n",
    "\n",
    "class Rectangle(Shape):\n",
    "    def __init__(self, width, height):\n",
    "        self.width = width\n",
    "        self.height = height\n",
    "\n",
    "    def area(self):\n",
    "        return self.width * self.height\n",
    "\n",
    "class Triangle(Shape):\n",
    "    def __init__(self, base, height):\n",
    "        self.base = base\n",
    "        self.height = height\n",
    "\n",
    "    def area(self):\n",
    "        return 0.5 * self.base * self.height\n",
    "\n",
    "# Usage\n",
    "shapes = [Circle(5), Rectangle(4, 6), Triangle(3, 7)]\n",
    "for shape in shapes:\n",
    "    print(f\"Area: {shape.area()}\")\n"
   ]
  },
  {
   "cell_type": "markdown",
   "id": "dd429f63-3581-4c63-84e1-448536bdb825",
   "metadata": {},
   "source": [
    "## Question 9: Payment System with Polymorphism\n",
    "Create a base class Payment with a method process_payment(). Create derived classes CreditCardPayment and PayPalPayment that implement the process_payment() method."
   ]
  },
  {
   "cell_type": "code",
   "execution_count": 9,
   "id": "b19b05ea-9b79-423e-b8ee-3e82a93b225d",
   "metadata": {
    "tags": []
   },
   "outputs": [
    {
     "name": "stdout",
     "output_type": "stream",
     "text": [
      "Processing credit card payment of 100\n",
      "Processing PayPal payment of 100\n"
     ]
    }
   ],
   "source": [
    "class Payment:\n",
    "    def process_payment(self, amount):\n",
    "        pass\n",
    "\n",
    "class CreditCardPayment(Payment):\n",
    "    def process_payment(self, amount):\n",
    "        return f\"Processing credit card payment of {amount}\"\n",
    "\n",
    "class PayPalPayment(Payment):\n",
    "    def process_payment(self, amount):\n",
    "        return f\"Processing PayPal payment of {amount}\"\n",
    "\n",
    "# Usage\n",
    "payments = [CreditCardPayment(), PayPalPayment()]\n",
    "for payment in payments:\n",
    "    print(payment.process_payment(100))\n"
   ]
  },
  {
   "cell_type": "markdown",
   "id": "5953e7bf-f38a-437e-a38d-4743bc6ad967",
   "metadata": {},
   "source": [
    "## Question 10: Employee Management with Inheritance and Polymorphism\n",
    "Create a base class Employee with attributes name and salary, and a method calculate_bonus(). Create derived classes Manager and Developer that override the calculate_bonus() method."
   ]
  },
  {
   "cell_type": "code",
   "execution_count": 10,
   "id": "e76a9f6a-4a50-4262-859d-361c6d04d039",
   "metadata": {
    "tags": []
   },
   "outputs": [
    {
     "name": "stdout",
     "output_type": "stream",
     "text": [
      "Alice's bonus: 9000.0\n",
      "Bob's bonus: 16000.0\n"
     ]
    }
   ],
   "source": [
    "class Employee:\n",
    "    def __init__(self, name, salary):\n",
    "        self.name = name\n",
    "        self.salary = salary\n",
    "\n",
    "    def calculate_bonus(self):\n",
    "        pass\n",
    "\n",
    "class Manager(Employee):\n",
    "    def calculate_bonus(self):\n",
    "        return self.salary * 0.1\n",
    "\n",
    "class Developer(Employee):\n",
    "    def calculate_bonus(self):\n",
    "        return self.salary * 0.2\n",
    "\n",
    "# Usage\n",
    "employees = [Manager(\"Alice\", 90000), Developer(\"Bob\", 80000)]\n",
    "for employee in employees:\n",
    "    print(f\"{employee.name}'s bonus: {employee.calculate_bonus()}\")\n"
   ]
  },
  {
   "cell_type": "code",
   "execution_count": null,
   "id": "47286948-6d98-46ec-a3c0-0071bb134c32",
   "metadata": {},
   "outputs": [],
   "source": []
  }
 ],
 "metadata": {
  "kernelspec": {
   "display_name": "Python 3 (ipykernel)",
   "language": "python",
   "name": "python3"
  },
  "language_info": {
   "codemirror_mode": {
    "name": "ipython",
    "version": 3
   },
   "file_extension": ".py",
   "mimetype": "text/x-python",
   "name": "python",
   "nbconvert_exporter": "python",
   "pygments_lexer": "ipython3",
   "version": "3.11.4"
  }
 },
 "nbformat": 4,
 "nbformat_minor": 5
}
