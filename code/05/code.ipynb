{
 "cells": [
  {
   "cell_type": "markdown",
   "id": "48a577e2-b8d0-41bc-9c4f-b5c55c4af892",
   "metadata": {
    "tags": []
   },
   "source": [
    "## Operators\n"
   ]
  },
  {
   "cell_type": "code",
   "execution_count": 15,
   "id": "7e13f5e5-f82d-439e-9dff-b70903b9906d",
   "metadata": {},
   "outputs": [],
   "source": [
    "x = 5\n",
    "y = 5\n",
    "\n",
    "result = x == y  # True\n"
   ]
  },
  {
   "cell_type": "code",
   "execution_count": 16,
   "id": "ca9ea46e-d36f-4126-b09b-e62a426a496c",
   "metadata": {},
   "outputs": [],
   "source": [
    "x = 5\n",
    "y = 10\n",
    "\n",
    "result = x != y  # True\n"
   ]
  },
  {
   "cell_type": "code",
   "execution_count": 17,
   "id": "b11b4e93-e9d6-4b34-baab-0b9bbed6cc9e",
   "metadata": {},
   "outputs": [],
   "source": [
    "x = 5\n",
    "y = 10\n",
    "\n",
    "result = x < y  # True\n"
   ]
  },
  {
   "cell_type": "code",
   "execution_count": 18,
   "id": "80f4723a-362b-45db-a657-69065510d3b0",
   "metadata": {},
   "outputs": [],
   "source": [
    "x = 10\n",
    "y = 5\n",
    "\n",
    "result = x > y  # True\n"
   ]
  },
  {
   "cell_type": "code",
   "execution_count": 19,
   "id": "4f02c11e-628f-445a-bdd5-5893dac13e36",
   "metadata": {},
   "outputs": [],
   "source": [
    "x = 10\n",
    "y = 5\n",
    "\n",
    "result = x >= y  # True\n"
   ]
  },
  {
   "cell_type": "code",
   "execution_count": 20,
   "id": "bd69bcfe-1d56-4f85-9e65-119ff179d7c9",
   "metadata": {},
   "outputs": [],
   "source": [
    "x = 5\n",
    "y = 10\n",
    "\n",
    "result = x <= y  # True\n"
   ]
  },
  {
   "cell_type": "markdown",
   "id": "d4aec0ed-3481-40f9-8592-f053b598b237",
   "metadata": {},
   "source": [
    "### Logical Operator"
   ]
  },
  {
   "cell_type": "code",
   "execution_count": 21,
   "id": "896db836-733c-4f28-bf96-431b9d74b059",
   "metadata": {},
   "outputs": [],
   "source": [
    "x = True\n",
    "y = False\n",
    "\n",
    "result = x and y  # False\n"
   ]
  },
  {
   "cell_type": "code",
   "execution_count": 22,
   "id": "9f4fba46-6498-44b1-ad34-899ffdb20080",
   "metadata": {},
   "outputs": [],
   "source": [
    "x = True\n",
    "y = False\n",
    "\n",
    "result = x or y  # True\n"
   ]
  },
  {
   "cell_type": "code",
   "execution_count": 23,
   "id": "5f9c72ae-de74-46ff-a3bf-8e8de24dfe4a",
   "metadata": {},
   "outputs": [],
   "source": [
    "x = True\n",
    "\n",
    "result = not x  # False\n"
   ]
  },
  {
   "cell_type": "markdown",
   "id": "eae1f510-bed3-4a63-b695-5a5334ee67df",
   "metadata": {},
   "source": [
    "## Control Statements"
   ]
  },
  {
   "cell_type": "markdown",
   "id": "7e3da809-00fe-49a0-b1d1-35c36398ae8b",
   "metadata": {},
   "source": [
    "#### If statement"
   ]
  },
  {
   "cell_type": "code",
   "execution_count": 24,
   "id": "29b9f4ff-44a9-47d1-8c3d-1f2ce01b98a4",
   "metadata": {},
   "outputs": [
    {
     "name": "stdout",
     "output_type": "stream",
     "text": [
      "You are an adult.\n"
     ]
    }
   ],
   "source": [
    "age = 20\n",
    "\n",
    "if age >= 18:\n",
    "    print(\"You are an adult.\")\n"
   ]
  },
  {
   "cell_type": "code",
   "execution_count": 25,
   "id": "d7def569-7d77-4755-b186-2c339e72aca2",
   "metadata": {},
   "outputs": [
    {
     "name": "stdout",
     "output_type": "stream",
     "text": [
      "You are not an adult.\n"
     ]
    }
   ],
   "source": [
    "age = 15\n",
    "\n",
    "if age >= 18:\n",
    "    print(\"You are an adult.\")\n",
    "else:\n",
    "    print(\"You are not an adult.\")\n"
   ]
  },
  {
   "cell_type": "code",
   "execution_count": 26,
   "id": "00100c2b-cb40-4619-b568-a249e63d35de",
   "metadata": {},
   "outputs": [
    {
     "name": "stdout",
     "output_type": "stream",
     "text": [
      "You are an adult.\n"
     ]
    }
   ],
   "source": [
    "age = 25\n",
    "\n",
    "if age < 18:\n",
    "    print(\"You are a minor.\")\n",
    "elif age >= 18 and age < 65:\n",
    "    print(\"You are an adult.\")\n",
    "else:\n",
    "    print(\"You are a senior citizen.\")\n"
   ]
  },
  {
   "cell_type": "code",
   "execution_count": 27,
   "id": "f442444a-420d-4406-aedb-595f625b120d",
   "metadata": {},
   "outputs": [
    {
     "name": "stdout",
     "output_type": "stream",
     "text": [
      "x is greater than y\n",
      "x is also greater than 7\n"
     ]
    }
   ],
   "source": [
    "x = 10\n",
    "y = 5\n",
    "\n",
    "if x > y:\n",
    "    print(\"x is greater than y\")\n",
    "    if x > 7:\n",
    "        print(\"x is also greater than 7\")\n",
    "else:\n",
    "    print(\"y is greater than or equal to x\")\n"
   ]
  },
  {
   "cell_type": "markdown",
   "id": "863796d5-ed1f-456a-af21-d3e700a0a1e7",
   "metadata": {},
   "source": [
    "### Looping Statements (Iteration)\n",
    "\n"
   ]
  },
  {
   "cell_type": "markdown",
   "id": "26dcd0b6-3589-4d30-80a9-932479473b41",
   "metadata": {},
   "source": [
    "#### for statement"
   ]
  },
  {
   "cell_type": "code",
   "execution_count": 28,
   "id": "f5a0c6f3-212c-465e-a576-2218815047f9",
   "metadata": {},
   "outputs": [
    {
     "name": "stdout",
     "output_type": "stream",
     "text": [
      "H\n",
      "e\n",
      "l\n",
      "l\n",
      "o\n",
      ",\n",
      " \n",
      "w\n",
      "o\n",
      "r\n",
      "l\n",
      "d\n",
      "!\n"
     ]
    }
   ],
   "source": [
    "text = \"Hello, world!\"\n",
    "\n",
    "for char in text:\n",
    "    print(char)\n"
   ]
  },
  {
   "cell_type": "code",
   "execution_count": 29,
   "id": "8c051aab-1f9f-4e5e-9787-701cef2a3262",
   "metadata": {},
   "outputs": [
    {
     "name": "stdout",
     "output_type": "stream",
     "text": [
      "0\n",
      "1\n",
      "2\n",
      "3\n",
      "4\n"
     ]
    }
   ],
   "source": [
    "for i in range(5):\n",
    "    print(i)\n"
   ]
  },
  {
   "cell_type": "code",
   "execution_count": 30,
   "id": "210474c9-50fa-4fb5-af0a-2dda035d6c71",
   "metadata": {},
   "outputs": [
    {
     "name": "stdout",
     "output_type": "stream",
     "text": [
      "3\n",
      "5\n"
     ]
    }
   ],
   "source": [
    "coordinates = (3, 5)\n",
    "\n",
    "for coord in coordinates:\n",
    "    print(coord)\n"
   ]
  },
  {
   "cell_type": "code",
   "execution_count": 31,
   "id": "0d26a37f-0fa5-4445-a8d6-b2a32128c2c0",
   "metadata": {},
   "outputs": [
    {
     "name": "stdout",
     "output_type": "stream",
     "text": [
      "0\n",
      "1\n",
      "2\n",
      "3\n",
      "4\n"
     ]
    }
   ],
   "source": [
    "for i in range(5):\n",
    "    print(i)\n",
    "# Output: 0, 1, 2, 3, 4\n"
   ]
  },
  {
   "cell_type": "code",
   "execution_count": 32,
   "id": "5e571adf-a73d-4e92-a674-58072fdaaf08",
   "metadata": {},
   "outputs": [
    {
     "name": "stdout",
     "output_type": "stream",
     "text": [
      "2\n",
      "4\n",
      "6\n",
      "8\n",
      "10\n"
     ]
    }
   ],
   "source": [
    "for i in range(2, 11, 2):\n",
    "    print(i)\n",
    "# Output: 2, 4, 6, 8, 10\n"
   ]
  },
  {
   "cell_type": "code",
   "execution_count": 33,
   "id": "0cb5e410-b31b-4047-9977-3a034f3d10ce",
   "metadata": {},
   "outputs": [
    {
     "name": "stdout",
     "output_type": "stream",
     "text": [
      "10\n",
      "9\n",
      "8\n",
      "7\n",
      "6\n",
      "5\n",
      "4\n",
      "3\n",
      "2\n",
      "1\n"
     ]
    }
   ],
   "source": [
    "for i in range(10, 0, -1):\n",
    "    print(i)\n",
    "# Output: 10, 9, 8, 7, 6, 5, 4, 3, 2, 1\n"
   ]
  },
  {
   "cell_type": "markdown",
   "id": "12ee5a02-4e7e-4091-8941-247f1dcb4968",
   "metadata": {},
   "source": [
    "#### While  statement"
   ]
  },
  {
   "cell_type": "code",
   "execution_count": 34,
   "id": "ccd894cf-51ee-4945-9e74-5e55a21be73d",
   "metadata": {},
   "outputs": [
    {
     "name": "stdin",
     "output_type": "stream",
     "text": [
      "Enter a number:  3\n"
     ]
    }
   ],
   "source": [
    "while True:\n",
    "    try:\n",
    "        num = int(input(\"Enter a number: \"))\n",
    "        break  # Exit the loop if input is a valid number\n",
    "    except ValueError:\n",
    "        print(\"Invalid input. Please enter a valid number.\")\n"
   ]
  },
  {
   "cell_type": "code",
   "execution_count": 35,
   "id": "ee0d5217-e75b-471c-b0a2-5fc4e4aceaa2",
   "metadata": {},
   "outputs": [
    {
     "name": "stdout",
     "output_type": "stream",
     "text": [
      "Withdrawal successful. Remaining balance: 800\n",
      "Withdrawal successful. Remaining balance: 600\n",
      "Withdrawal successful. Remaining balance: 400\n",
      "Withdrawal successful. Remaining balance: 200\n",
      "Withdrawal successful. Remaining balance: 0\n"
     ]
    }
   ],
   "source": [
    "balance = 1000\n",
    "withdrawal_amount = 200\n",
    "\n",
    "while balance >= withdrawal_amount:\n",
    "    print(\"Withdrawal successful. Remaining balance:\", balance - withdrawal_amount)\n",
    "    balance -= withdrawal_amount\n"
   ]
  },
  {
   "cell_type": "markdown",
   "id": "7dd04822-6737-465e-9cb2-8595ab806826",
   "metadata": {},
   "source": [
    "### Control Transfer Statements"
   ]
  },
  {
   "cell_type": "code",
   "execution_count": 36,
   "id": "6a76eb14-1a30-4469-b906-9e4db3513059",
   "metadata": {},
   "outputs": [
    {
     "name": "stdout",
     "output_type": "stream",
     "text": [
      "0\n",
      "1\n",
      "2\n",
      "3\n",
      "4\n"
     ]
    }
   ],
   "source": [
    "for i in range(10):\n",
    "    if i == 5:\n",
    "        break  # Exit the loop when i equals 5\n",
    "    print(i)\n"
   ]
  },
  {
   "cell_type": "code",
   "execution_count": 37,
   "id": "ef173625-5dee-4866-97b0-7b4f14bf9caa",
   "metadata": {},
   "outputs": [
    {
     "name": "stdout",
     "output_type": "stream",
     "text": [
      "1\n",
      "3\n",
      "5\n",
      "7\n",
      "9\n"
     ]
    }
   ],
   "source": [
    "for i in range(10):\n",
    "    if i % 2 == 0:\n",
    "        continue  # Skip even numbers\n",
    "    print(i)\n"
   ]
  },
  {
   "cell_type": "code",
   "execution_count": 38,
   "id": "9f2ba8ec-5d5b-4cbb-a0eb-8c850a149c72",
   "metadata": {},
   "outputs": [],
   "source": [
    "for i in range(5):\n",
    "    pass  # Do nothing\n"
   ]
  },
  {
   "cell_type": "markdown",
   "id": "c6158419-a375-452c-8314-c8bebc05873e",
   "metadata": {},
   "source": [
    "#### exception handling"
   ]
  },
  {
   "cell_type": "code",
   "execution_count": null,
   "id": "f233b005-3bf7-4a97-b28a-b13bc5e27262",
   "metadata": {},
   "outputs": [],
   "source": [
    "try:\n",
    "    num = int(input(\"Enter a number: \"))\n",
    "    result = 10 / num\n",
    "except ZeroDivisionError:\n",
    "    print(\"Cannot divide by zero.\")\n",
    "except ValueError:\n",
    "    print(\"Invalid input. Please enter a valid number.\")\n"
   ]
  },
  {
   "cell_type": "code",
   "execution_count": null,
   "id": "46a7fa4c-e7e8-4603-990a-c4b57abec69c",
   "metadata": {},
   "outputs": [],
   "source": [
    "try:\n",
    "    num = int(input(\"Enter a number: \"))\n",
    "    result = 10 / num\n",
    "except ZeroDivisionError:\n",
    "    print(\"Cannot divide by zero.\")\n",
    "except ValueError:\n",
    "    print(\"Invalid input. Please enter a valid number.\")\n"
   ]
  },
  {
   "cell_type": "code",
   "execution_count": null,
   "id": "dfbf4701-f148-47e1-a539-30b9853474a3",
   "metadata": {},
   "outputs": [],
   "source": [
    "try:\n",
    "    num = int(input(\"Enter a number: \"))\n",
    "    result = 10 / num\n",
    "except ZeroDivisionError:\n",
    "    print(\"Cannot divide by zero.\")\n",
    "except ValueError:\n",
    "    print(\"Invalid input. Please enter a valid number.\")\n",
    "else:\n",
    "    print(\"Result:\", result)\n"
   ]
  },
  {
   "cell_type": "code",
   "execution_count": null,
   "id": "f4e2ff0b-007f-40c0-b14c-04de3f8f97bb",
   "metadata": {},
   "outputs": [],
   "source": [
    "try:\n",
    "    file = open(\"example.txt\", \"r\")\n",
    "    content = file.read()\n",
    "except FileNotFoundError:\n",
    "    print(\"File not found.\")\n",
    "finally:\n",
    "    if 'file' in locals():\n",
    "        file.close()  # Close the file even if an exception occurred\n"
   ]
  },
  {
   "cell_type": "code",
   "execution_count": null,
   "id": "99809621-e624-4430-95f1-e2c2cb5b2456",
   "metadata": {},
   "outputs": [],
   "source": [
    "class MyError(Exception):\n",
    "    pass\n",
    "\n",
    "try:\n",
    "    raise MyError(\"This is a custom exception.\")\n",
    "except MyError as e:\n",
    "    print(\"Caught:\", e)\n"
   ]
  },
  {
   "cell_type": "code",
   "execution_count": null,
   "id": "5c6c3879-a37a-4858-8f18-4285f287dcb0",
   "metadata": {},
   "outputs": [],
   "source": []
  }
 ],
 "metadata": {
  "kernelspec": {
   "display_name": "Python 3 (ipykernel)",
   "language": "python",
   "name": "python3"
  },
  "language_info": {
   "codemirror_mode": {
    "name": "ipython",
    "version": 3
   },
   "file_extension": ".py",
   "mimetype": "text/x-python",
   "name": "python",
   "nbconvert_exporter": "python",
   "pygments_lexer": "ipython3",
   "version": "3.9.12"
  }
 },
 "nbformat": 4,
 "nbformat_minor": 5
}
